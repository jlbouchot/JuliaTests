{
 "cells": [
  {
   "cell_type": "markdown",
   "id": "16fe0f73-795f-435e-8982-64c32e285b4a",
   "metadata": {},
   "source": [
    "# Parsing Julia to Tapenade's IL\n",
    "\n",
    "This notebook shows how to parse julia code into the format used by tapenade in a way to start developping source transform adjoint code. \n",
    "\n",
    "## Load Tapenade's tree structure\n",
    "Start with compiling"
   ]
  },
  {
   "cell_type": "code",
   "execution_count": 1,
   "id": "d3ab75bb-7b53-4a5e-aa58-d790f1e990d5",
   "metadata": {},
   "outputs": [],
   "source": [
    "#= \n",
    "Add some info and some calls to the makefile implemented in this example\n",
    "=#"
   ]
  },
  {
   "cell_type": "markdown",
   "id": "cb6dd3b5-6f47-4e17-ac5f-36d41e649f5a",
   "metadata": {},
   "source": [
    "Load the newly created library"
   ]
  },
  {
   "cell_type": "code",
   "execution_count": 2,
   "id": "fd7f81c2-46d5-436c-a839-73de0359da62",
   "metadata": {},
   "outputs": [
    {
     "data": {
      "text/plain": [
       "Ptr{Nothing} @0x0000000001473800"
      ]
     },
     "execution_count": 2,
     "metadata": {},
     "output_type": "execute_result"
    }
   ],
   "source": [
    "using Libdl\n",
    "c_libname = \"./julialib.so\"\n",
    "lib = Libdl.dlopen(c_libname) # Open the library explicitly."
   ]
  },
  {
   "cell_type": "markdown",
   "id": "6a375b00-4fc4-4b47-98ae-d0e59e8b648a",
   "metadata": {},
   "source": [
    "Define function handler to useful functions."
   ]
  },
  {
   "cell_type": "code",
   "execution_count": 3,
   "id": "45ce9ed2-a28c-409d-85b5-4c805f5b2cc6",
   "metadata": {},
   "outputs": [
    {
     "data": {
      "text/plain": [
       "Ptr{Nothing} @0x00007fd89aa13da2"
      ]
     },
     "execution_count": 3,
     "metadata": {},
     "output_type": "execute_result"
    }
   ],
   "source": [
    "# Functions from the tree builder library for parsing the julia tree\n",
    "c_newJuliaTreeBuilder = Libdl.dlsym(lib, :newJuliaTreeBuilder)   # Get a symbol for the function to call. !!!! Redefine this library\n",
    "c_startJuliaTree = Libdl.dlsym(lib, :startJuliaTree)\n",
    "c_turnListFrontier = Libdl.dlsym(lib, :turnListFrontier)\n",
    "## To review: c_startAnnotation = Libdl.dlsym(lib, :startTree) ### This is an extern function, and we might want to have this pointing to another lib!\n",
    "c_putValue = Libdl.dlsym(lib, :putValue) ## Also extern\n",
    "c_putTree = Libdl.dlsym(lib, :putTree) ## Also extern\n",
    "c_oneLessWaiting = Libdl.dlsym(lib, :oneLessWaiting) \n",
    "c_putListTree = Libdl.dlsym(lib, :putListTree) ## Extern\n",
    "c_startDummyTree = Libdl.dlsym(lib, :startDummyTree) ## Extern\n",
    "c_terminateListTree = Libdl.dlsym(lib, :terminateListTree) ## Extern\n",
    "c_getTreeBuilt = Libdl.dlsym(lib, :getTreeBuilt) ## Extern\n",
    "c_getListTreeBuilt = Libdl.dlsym(lib, :getListTreeBuilt) ## Extern\n",
    "c_deleteTreeBuilder = Libdl.dlsym(lib, :deleteTreeBuilder) ## Extern\n",
    "c_resetTreeBuilder = Libdl.dlsym(lib, :resetTreeBuilder) ## Extern\n",
    "c_removeTree = Libdl.dlsym(lib, :removeTree)\n",
    "c_showTreeBuilderState = Libdl.dlsym(lib, :showTreeBuilderState) ## Debug purposes\n",
    "\n",
    "# Functions from cvtp to help producing the tree"
   ]
  },
  {
   "cell_type": "markdown",
   "id": "317f154b-3ded-4843-9d2d-3906fdb6c52b",
   "metadata": {},
   "source": [
    "## Create the associated structures on Julia's side"
   ]
  },
  {
   "cell_type": "code",
   "execution_count": null,
   "id": "35ca5f04-0545-44a1-9e9d-aa331ab93b9e",
   "metadata": {},
   "outputs": [],
   "source": [
    "juliaTreeBuilder = ccall(c_newJuliaTreeBuilder, Ptr{Cvoid}, (Cint,), 5)"
   ]
  },
  {
   "cell_type": "code",
   "execution_count": null,
   "id": "b387fbff-19f0-4165-965f-b8cc6895fe3b",
   "metadata": {},
   "outputs": [],
   "source": [
    "ccall(c_startJuliaTree, Ptr{Cvoid}, (Ptr{Cvoid}, Cstring,), juliaTreeBuilder, \"assign\")"
   ]
  },
  {
   "cell_type": "code",
   "execution_count": null,
   "id": "caba538a-e0ff-4c27-8570-9915d23a955b",
   "metadata": {},
   "outputs": [],
   "source": [
    "ccall(c_showTreeBuilderState, Cvoid, (Ptr{Cvoid},), juliaTreeBuilder)"
   ]
  },
  {
   "cell_type": "code",
   "execution_count": null,
   "id": "5ca322d2-86ea-4b64-82e7-2c476ca3a409",
   "metadata": {},
   "outputs": [],
   "source": [
    "ccall(c_startJuliaTree, Ptr{Cvoid}, (Ptr{Cvoid}, Cstring,), juliaTreeBuilder, \"ident\")"
   ]
  },
  {
   "cell_type": "code",
   "execution_count": null,
   "id": "86db0e4f-0767-44e7-89b6-9d8d6c05fe2e",
   "metadata": {},
   "outputs": [],
   "source": [
    "ccall(c_showTreeBuilderState, Cvoid, (Ptr{Cvoid},), juliaTreeBuilder)"
   ]
  },
  {
   "cell_type": "code",
   "execution_count": null,
   "id": "47e59cf5-9b15-4ce7-ad54-cf416efc9830",
   "metadata": {},
   "outputs": [],
   "source": [
    "ccall(c_putValue, Cvoid, (Ptr{Cvoid}, Cstring), juliaTreeBuilder, \"toto\")"
   ]
  },
  {
   "cell_type": "code",
   "execution_count": null,
   "id": "cb085f03-2df5-4e9f-9f3c-a342a9081239",
   "metadata": {},
   "outputs": [],
   "source": [
    "ccall(c_startJuliaTree, Ptr{Cvoid}, (Ptr{Cvoid}, Cstring,), juliaTreeBuilder, \"int32\")"
   ]
  },
  {
   "cell_type": "code",
   "execution_count": null,
   "id": "b246b956-54e2-438b-a68b-0ad9d62dca6e",
   "metadata": {},
   "outputs": [],
   "source": [
    "ccall(c_putValue, Cvoid, (Ptr{Cvoid}, Cstring), juliaTreeBuilder, \"42\")"
   ]
  },
  {
   "cell_type": "code",
   "execution_count": null,
   "id": "be74639c-19e3-4f9f-beaa-bea629e6a8e1",
   "metadata": {},
   "outputs": [],
   "source": [
    "ccall(c_showTreeBuilderState, Cvoid, (Ptr{Cvoid},), juliaTreeBuilder)"
   ]
  },
  {
   "cell_type": "code",
   "execution_count": null,
   "id": "b78d43b0-3a94-4416-a08a-c976baf69c7b",
   "metadata": {},
   "outputs": [],
   "source": []
  },
  {
   "cell_type": "code",
   "execution_count": null,
   "id": "ad3988cc-8083-4628-8c8c-b42b4152a386",
   "metadata": {},
   "outputs": [],
   "source": []
  },
  {
   "cell_type": "code",
   "execution_count": null,
   "id": "c5376b4d-447b-4b2b-ad3d-4415dfe39c37",
   "metadata": {},
   "outputs": [],
   "source": []
  },
  {
   "cell_type": "code",
   "execution_count": null,
   "id": "b09dc266-c4a6-4b92-8ba9-c5e3e6229cec",
   "metadata": {},
   "outputs": [],
   "source": []
  },
  {
   "cell_type": "code",
   "execution_count": 4,
   "id": "f794648c-8b34-4459-abef-49d4899b05c1",
   "metadata": {},
   "outputs": [],
   "source": [
    "using DataStructures"
   ]
  },
  {
   "cell_type": "code",
   "execution_count": 5,
   "id": "31740510-d576-4593-8b99-1143541a8875",
   "metadata": {},
   "outputs": [
    {
     "data": {
      "text/plain": [
       "\"testfile.jl\""
      ]
     },
     "execution_count": 5,
     "metadata": {},
     "output_type": "execute_result"
    }
   ],
   "source": [
    "ct_testfile = \"ct_test.jl\"\n",
    "orig_testfile = \"kepler.jl\"\n",
    "basic_test = \"testfile.jl\""
   ]
  },
  {
   "cell_type": "code",
   "execution_count": 6,
   "id": "a5bf025d-c926-4878-8322-5aa5015fd82b",
   "metadata": {},
   "outputs": [
    {
     "data": {
      "text/plain": [
       ":cst"
      ]
     },
     "execution_count": 6,
     "metadata": {},
     "output_type": "execute_result"
    }
   ],
   "source": [
    "EndOfList = :EndOfList\n",
    "cstSymb = :cst"
   ]
  },
  {
   "cell_type": "code",
   "execution_count": 7,
   "id": "6cb5220f-134f-4167-86e8-2ad4e7fdfed5",
   "metadata": {},
   "outputs": [
    {
     "data": {
      "text/plain": [
       "Dict{Any, String} with 20 entries:\n",
       "  :return        => \"return\"\n",
       "  :vect          => \"vect\"\n",
       "  Nothing        => \"none\"\n",
       "  :tuple         => \"tuple\"\n",
       "  Int64          => \"int64\"\n",
       "  :.             => \"package\"\n",
       "  :ref           => \"ref\"\n",
       "  Int32          => \"int32\"\n",
       "  :curly         => \"curly\"\n",
       "  LineNumberNode => \"linenumber\"\n",
       "  :call          => \"call\"\n",
       "  :vcat          => \"vcat\"\n",
       "  :block         => \"block\"\n",
       "  Float64        => \"float64\"\n",
       "  :EndOfList     => \"EndOfList\"\n",
       "  :function      => \"function\"\n",
       "  :(=)           => \"assign\"\n",
       "  :using         => \"using\"\n",
       "  Float32        => \"float32\"\n",
       "  :toplevel      => \"toplevel\""
      ]
     },
     "execution_count": 7,
     "metadata": {},
     "output_type": "execute_result"
    }
   ],
   "source": [
    "metalnames = Dict(\n",
    "    :(=) => \"assign\",\n",
    "    :. => \"package\", # Check whether the dot refers to a local path or is synonym for an import\n",
    "    :block => \"block\",\n",
    "    :vect => \"vect\",\n",
    "    :vcat => \"vcat\",\n",
    "    :return => \"return\",\n",
    "    :tuple => \"tuple\",\n",
    "    :ref => \"ref\",\n",
    "    :curly => \"curly\",\n",
    "    :call => \"call\", \n",
    "    :function => \"function\",\n",
    "    :using => \"using\", \n",
    "    :toplevel => \"toplevel\",\n",
    "    Int64 => \"int64\",\n",
    "    Float64 => \"float64\",\n",
    "    Int32 => \"int32\",\n",
    "    Float32 => \"float32\",\n",
    "    LineNumberNode => \"linenumber\",\n",
    "    Nothing => \"none\",\n",
    "    :EndOfList => \"EndOfList\"\n",
    ")"
   ]
  },
  {
   "cell_type": "code",
   "execution_count": 8,
   "id": "279a32d5-c1b4-4242-ae17-889bc85e4031",
   "metadata": {},
   "outputs": [
    {
     "data": {
      "text/plain": [
       "Symbol"
      ]
     },
     "execution_count": 8,
     "metadata": {},
     "output_type": "execute_result"
    }
   ],
   "source": [
    "typeof(EndOfList)"
   ]
  },
  {
   "cell_type": "code",
   "execution_count": 37,
   "id": "c8f39469-83ee-4aac-aff8-9ffaca753a8e",
   "metadata": {},
   "outputs": [
    {
     "data": {
      "text/plain": [
       "file2ast (generic function with 1 method)"
      ]
     },
     "execution_count": 37,
     "metadata": {},
     "output_type": "execute_result"
    }
   ],
   "source": [
    "function file2ast(fname::AbstractString, outfile::AbstractString)\n",
    "    \n",
    "    # tree_builder = ccall(c_newJuliaTreeBuilder, Ptr{Cvoid}, (Cint,), 5)\n",
    "    all_symbols = Set()\n",
    "    open(outfile, \"w\") do out \n",
    "        code = read(fname, String)\n",
    "        ## println(code)\n",
    "\n",
    "        exp_in_waiting = Stack{Any}()\n",
    "        \n",
    "        prev = 0\n",
    "        next = 1\n",
    "        while next > prev \n",
    "            prev = next\n",
    "            exp, next = Meta.parse(code, prev)\n",
    "            push!(exp_in_waiting, exp)\n",
    "            ## println(\"     ***** Currently looking at: \")\n",
    "            ## println(exp)\n",
    "            while !isempty(exp_in_waiting)\n",
    "                e = pop!(exp_in_waiting)\n",
    "                if e isa Expr \n",
    "                    # Parse expression\n",
    "                    # Write current instruction\n",
    "                    println(\"     ***** Currently looking at: \", string(e))\n",
    "                    # println(e.head)\n",
    "                    println(\"Operator \", e.head, \" has \", length(e.args), \" children. \")\n",
    "                    # println(e.args)\n",
    "                    # If Current instruction is a call, make sure to add an end of list\n",
    "                    # Same thing holds for a 'using' statement\n",
    "                    #####################\n",
    "                    # NOTE:             #\n",
    "                    # One might need    #\n",
    "                    # to check if other #\n",
    "                    # keywords need this#\n",
    "                    #####################\n",
    "                    #=if e.head == (:.)\n",
    "                    #if e.head in (:.,)\n",
    "                        println(\"We are here! \", e)\n",
    "                    end =#\n",
    "                    if e.head in (:call, :tuple, :using, :vect) \n",
    "                        push!(exp_in_waiting, EndOfList)\n",
    "                    end\n",
    "                    for arg in Iterators.reverse(e.args)\n",
    "                        push!(exp_in_waiting, arg)\n",
    "                    end\n",
    "                    push!(all_symbols, metalnames[e.head]) \n",
    "                    push!(exp_in_waiting, e.head) \n",
    "                    # write(out, e.head) # New C node from tree builder\n",
    "                    # write(out, \"\\n\")\n",
    "                elseif e isa Symbol\n",
    "                    # Add symbol to file\n",
    "                    #println(\"This is the current symbol: \", e)\n",
    "                    if haskey(metalnames, e) \n",
    "                        write(out, metalnames[e]) # New leaf for current operator\n",
    "                    else\n",
    "                        write(out, \"ident\\n\")\n",
    "                        write(out, e) # New leaf for current operator\n",
    "                    end\n",
    "                    write(out, \"\\n\")\n",
    "                else\n",
    "                    # Neither a symbol nor an expression, it's probably a constant\n",
    "                    ## println(\"Type of our constant thing is \", typeof(e))\n",
    "                    push!(all_symbols, metalnames[typeof(e)])\n",
    "                    write(out, metalnames[typeof(e)])\n",
    "                    write(out, \"\\n\")\n",
    "                    ## println(\"Looking at cst things\")\n",
    "                    ## println(e)\n",
    "                    write(out, string(e))\n",
    "                    write(out, \"\\n\")\n",
    "                end\n",
    "            end\n",
    "                    \n",
    "            \n",
    "        end\n",
    "    end\n",
    "    return all_symbols\n",
    "end"
   ]
  },
  {
   "cell_type": "code",
   "execution_count": 38,
   "id": "484a54ad-94b9-473d-9840-60dbfd1e373f",
   "metadata": {},
   "outputs": [
    {
     "name": "stdout",
     "output_type": "stream",
     "text": [
      "     ***** Currently looking at: using LinearAlgebra, ForwardDiff\n",
      "Operator using has 2 children. \n",
      "     ***** Currently looking at: $(Expr(:., :LinearAlgebra))\n",
      "Operator . has 1 children. \n",
      "     ***** Currently looking at: $(Expr(:., :ForwardDiff))\n",
      "Operator . has 1 children. \n",
      "     ***** Currently looking at: Tmax = 6\n",
      "Operator = has 2 children. \n",
      "     ***** Currently looking at: cTmax = 3600 ^ 2 / 1.0e6\n",
      "Operator = has 2 children. \n",
      "     ***** Currently looking at: 3600 ^ 2 / 1.0e6\n",
      "Operator call has 3 children. \n",
      "     ***** Currently looking at: 3600 ^ 2\n",
      "Operator call has 3 children. \n",
      "     ***** Currently looking at: mass0 = 1500\n",
      "Operator = has 2 children. \n",
      "     ***** Currently looking at: β = 0.0142\n",
      "Operator = has 2 children. \n",
      "     ***** Currently looking at: μ = 5165.8620912\n",
      "Operator = has 2 children. \n",
      "     ***** Currently looking at: t0 = 0\n",
      "Operator = has 2 children. \n",
      "     ***** Currently looking at: x0 = [11.625, 0.75, 0, 0.0612, 0, π]\n",
      "Operator = has 2 children. \n",
      "     ***** Currently looking at: [11.625, 0.75, 0, 0.0612, 0, π]\n",
      "Operator vect has 6 children. \n",
      "     ***** Currently looking at: xf_fixed = [42.165, 0, 0, 0, 0]\n",
      "Operator = has 2 children. \n",
      "     ***** Currently looking at: [42.165, 0, 0, 0, 0]\n",
      "Operator vect has 5 children. \n",
      "     ***** Currently looking at: function doubleTMax()\n",
      "    #= none:3 =#\n",
      "    #= none:4 =#\n",
      "    return Tmax * 2\n",
      "end\n",
      "Operator function has 2 children. \n",
      "     ***** Currently looking at: doubleTMax()\n",
      "Operator call has 1 children. \n",
      "     ***** Currently looking at: begin\n",
      "    #= none:3 =#\n",
      "    #= none:4 =#\n",
      "    return Tmax * 2\n",
      "end\n",
      "Operator block has 3 children. \n",
      "     ***** Currently looking at: return Tmax * 2\n",
      "Operator return has 1 children. \n",
      "     ***** Currently looking at: Tmax * 2\n",
      "Operator call has 3 children. \n",
      "     ***** Currently looking at: dTmax = doubleTMax()\n",
      "Operator = has 2 children. \n",
      "     ***** Currently looking at: doubleTMax()\n",
      "Operator call has 1 children. \n",
      "     ***** Currently looking at: init = Dict{Real, Tuple{Real, Vector{Real}}}()\n",
      "Operator = has 2 children. \n",
      "     ***** Currently looking at: Dict{Real, Tuple{Real, Vector{Real}}}()\n",
      "Operator call has 1 children. \n",
      "     ***** Currently looking at: Dict{Real, Tuple{Real, Vector{Real}}}\n",
      "Operator curly has 3 children. \n",
      "     ***** Currently looking at: Tuple{Real, Vector{Real}}\n",
      "Operator curly has 3 children. \n",
      "     ***** Currently looking at: Vector{Real}\n",
      "Operator curly has 2 children. \n",
      "     ***** Currently looking at: $(Expr(:toplevel, :(tf = 15.2055), :(p0 = -([0.361266, 22.2412, 7.87736, 0, 0, -5.90802])), :(init[60] = (tf, p0))))\n",
      "Operator toplevel has 3 children. \n",
      "     ***** Currently looking at: tf = 15.2055\n",
      "Operator = has 2 children. \n",
      "     ***** Currently looking at: p0 = -([0.361266, 22.2412, 7.87736, 0, 0, -5.90802])\n",
      "Operator = has 2 children. \n",
      "     ***** Currently looking at: -([0.361266, 22.2412, 7.87736, 0, 0, -5.90802])\n",
      "Operator call has 2 children. \n",
      "     ***** Currently looking at: [0.361266, 22.2412, 7.87736, 0, 0, -5.90802]\n",
      "Operator vect has 6 children. \n",
      "     ***** Currently looking at: init[60] = (tf, p0)\n",
      "Operator = has 2 children. \n",
      "     ***** Currently looking at: init[60]\n",
      "Operator ref has 2 children. \n",
      "     ***** Currently looking at: (tf, p0)\n",
      "Operator tuple has 2 children. \n",
      "     ***** Currently looking at: $(Expr(:toplevel, :(tf = 132.0), :(p0 = -([-4.74372853936644, -71.7131486985424, -2.75046830980453, 45.05679923365745, -3.02679447559251, 2.24809106704767])), :(init[6] = (tf, p0))))\n",
      "Operator toplevel has 3 children. \n",
      "     ***** Currently looking at: tf = 132.0\n",
      "Operator = has 2 children. \n",
      "     ***** Currently looking at: p0 = -([-4.74372853936644, -71.7131486985424, -2.75046830980453, 45.05679923365745, -3.02679447559251, 2.24809106704767])\n",
      "Operator = has 2 children. \n",
      "     ***** Currently looking at: -([-4.74372853936644, -71.7131486985424, -2.75046830980453, 45.05679923365745, -3.02679447559251, 2.24809106704767])\n",
      "Operator call has 2 children. \n",
      "     ***** Currently looking at: [-4.74372853936644, -71.7131486985424, -2.75046830980453, 45.05679923365745, -3.02679447559251, 2.24809106704767]\n",
      "Operator vect has 6 children. \n",
      "     ***** Currently looking at: init[6] = (tf, p0)\n",
      "Operator = has 2 children. \n",
      "     ***** Currently looking at: init[6]\n",
      "Operator ref has 2 children. \n",
      "     ***** Currently looking at: (tf, p0)\n",
      "Operator tuple has 2 children. \n",
      "     ***** Currently looking at: $(Expr(:toplevel, :(tf = 1210.0), :(p0 = -([-22.1531970043882, -43.4710947734514, 0.9613188807286992, 318.1800985503019, -2.30723609486241, -0.579786311067159])), :(init[0.7] = (tf, p0))))\n",
      "Operator toplevel has 3 children. \n",
      "     ***** Currently looking at: tf = 1210.0\n",
      "Operator = has 2 children. \n",
      "     ***** Currently looking at: p0 = -([-22.1531970043882, -43.4710947734514, 0.9613188807286992, 318.1800985503019, -2.30723609486241, -0.579786311067159])\n",
      "Operator = has 2 children. \n",
      "     ***** Currently looking at: -([-22.1531970043882, -43.4710947734514, 0.9613188807286992, 318.1800985503019, -2.30723609486241, -0.579786311067159])\n",
      "Operator call has 2 children. \n",
      "     ***** Currently looking at: [-22.1531970043882, -43.4710947734514, 0.9613188807286992, 318.1800985503019, -2.30723609486241, -0.579786311067159]\n",
      "Operator vect has 6 children. \n",
      "     ***** Currently looking at: init[0.7] = (tf, p0)\n",
      "Operator = has 2 children. \n",
      "     ***** Currently looking at: init[0.7]\n",
      "Operator ref has 2 children. \n",
      "     ***** Currently looking at: (tf, p0)\n",
      "Operator tuple has 2 children. \n",
      "     ***** Currently looking at: $(Expr(:toplevel, :(tf = 6080.0), :(p0 = -([-123.415537906711, -620.717088159149, 0.5742554220129187, 1629.324243017332, -2.37393593535153, -0.285406685326985])), :(init[0.14] = (tf, p0))))\n",
      "Operator toplevel has 3 children. \n",
      "     ***** Currently looking at: tf = 6080.0\n",
      "Operator = has 2 children. \n",
      "     ***** Currently looking at: p0 = -([-123.415537906711, -620.717088159149, 0.5742554220129187, 1629.324243017332, -2.37393593535153, -0.285406685326985])\n",
      "Operator = has 2 children. \n",
      "     ***** Currently looking at: -([-123.415537906711, -620.717088159149, 0.5742554220129187, 1629.324243017332, -2.37393593535153, -0.285406685326985])\n",
      "Operator call has 2 children. \n",
      "     ***** Currently looking at: [-123.415537906711, -620.717088159149, 0.5742554220129187, 1629.324243017332, -2.37393593535153, -0.285406685326985]\n",
      "Operator vect has 6 children. \n",
      "     ***** Currently looking at: init[0.14] = (tf, p0)\n",
      "Operator = has 2 children. \n",
      "     ***** Currently looking at: init[0.14]\n",
      "Operator ref has 2 children. \n",
      "     ***** Currently looking at: (tf, p0)\n",
      "Operator tuple has 2 children. \n",
      "     ***** Currently looking at: $(Expr(:toplevel, :((tf, p0) = init[Tmax]), :(Tmax = cTmax * Tmax)))\n",
      "Operator toplevel has 2 children. \n",
      "     ***** Currently looking at: (tf, p0) = init[Tmax]\n",
      "Operator = has 2 children. \n",
      "     ***** Currently looking at: (tf, p0)\n",
      "Operator tuple has 2 children. \n",
      "     ***** Currently looking at: init[Tmax]\n",
      "Operator ref has 2 children. \n",
      "     ***** Currently looking at: Tmax = cTmax * Tmax\n",
      "Operator = has 2 children. \n",
      "     ***** Currently looking at: cTmax * Tmax\n",
      "Operator call has 3 children. \n",
      "     ***** Currently looking at: p0 = p0 / norm(p0)\n",
      "Operator = has 2 children. \n",
      "     ***** Currently looking at: p0 / norm(p0)\n",
      "Operator call has 3 children. \n",
      "     ***** Currently looking at: norm(p0)\n",
      "Operator call has 2 children. \n",
      "     ***** Currently looking at: $(Expr(:toplevel, :(ξ = [tf; p0])))\n",
      "Operator toplevel has 1 children. \n",
      "     ***** Currently looking at: ξ = [tf; p0]\n",
      "Operator = has 2 children. \n",
      "     ***** Currently looking at: [tf; p0]\n",
      "Operator vcat has 2 children. \n",
      "     ***** Currently looking at: function f(t, x, p, F)\n",
      "    #= none:3 =#\n",
      "    #= none:4 =#\n",
      "    return (x, p)\n",
      "end\n",
      "Operator function has 2 children. \n",
      "     ***** Currently looking at: f(t, x, p, F)\n",
      "Operator call has 5 children. \n",
      "     ***** Currently looking at: begin\n",
      "    #= none:3 =#\n",
      "    #= none:4 =#\n",
      "    return (x, p)\n",
      "end\n",
      "Operator block has 3 children. \n",
      "     ***** Currently looking at: return (x, p)\n",
      "Operator return has 1 children. \n",
      "     ***** Currently looking at: (x, p)\n",
      "Operator tuple has 2 children. \n",
      "     ***** Currently looking at: function shoot(tf, p0)\n",
      "    #= none:3 =#\n",
      "    #= none:4 =#\n",
      "    (xf, pf) = f(t0, x0, p0 + 2, tf)\n",
      "    #= none:5 =#\n",
      "    s = zeros(eltype(tf), 7)\n",
      "    #= none:6 =#\n",
      "    s[1:5] = xf[1:5] - xf_fixed\n",
      "    #= none:7 =#\n",
      "    s[6] = pf[6]\n",
      "    #= none:8 =#\n",
      "    s[7] = (p0[1] ^ 2 + p0[2] ^ 2 + p0[3] ^ 2 + p0[4] ^ 2 + p0[5] ^ 2 + p0[6] ^ 2) - 1\n",
      "    #= none:9 =#\n",
      "    return s\n",
      "end\n",
      "Operator function has 2 children. \n",
      "     ***** Currently looking at: shoot(tf, p0)\n",
      "Operator call has 3 children. \n",
      "     ***** Currently looking at: begin\n",
      "    #= none:3 =#\n",
      "    #= none:4 =#\n",
      "    (xf, pf) = f(t0, x0, p0 + 2, tf)\n",
      "    #= none:5 =#\n",
      "    s = zeros(eltype(tf), 7)\n",
      "    #= none:6 =#\n",
      "    s[1:5] = xf[1:5] - xf_fixed\n",
      "    #= none:7 =#\n",
      "    s[6] = pf[6]\n",
      "    #= none:8 =#\n",
      "    s[7] = (p0[1] ^ 2 + p0[2] ^ 2 + p0[3] ^ 2 + p0[4] ^ 2 + p0[5] ^ 2 + p0[6] ^ 2) - 1\n",
      "    #= none:9 =#\n",
      "    return s\n",
      "end\n",
      "Operator block has 13 children. \n",
      "     ***** Currently looking at: (xf, pf) = f(t0, x0, p0 + 2, tf)\n",
      "Operator = has 2 children. \n",
      "     ***** Currently looking at: (xf, pf)\n",
      "Operator tuple has 2 children. \n",
      "     ***** Currently looking at: f(t0, x0, p0 + 2, tf)\n",
      "Operator call has 5 children. \n",
      "     ***** Currently looking at: p0 + 2\n",
      "Operator call has 3 children. \n",
      "     ***** Currently looking at: s = zeros(eltype(tf), 7)\n",
      "Operator = has 2 children. \n",
      "     ***** Currently looking at: zeros(eltype(tf), 7)\n",
      "Operator call has 3 children. \n",
      "     ***** Currently looking at: eltype(tf)\n",
      "Operator call has 2 children. \n",
      "     ***** Currently looking at: s[1:5] = xf[1:5] - xf_fixed\n",
      "Operator = has 2 children. \n",
      "     ***** Currently looking at: s[1:5]\n",
      "Operator ref has 2 children. \n",
      "     ***** Currently looking at: 1:5\n",
      "Operator call has 3 children. \n",
      "     ***** Currently looking at: xf[1:5] - xf_fixed\n",
      "Operator call has 3 children. \n",
      "     ***** Currently looking at: xf[1:5]\n",
      "Operator ref has 2 children. \n",
      "     ***** Currently looking at: 1:5\n",
      "Operator call has 3 children. \n",
      "     ***** Currently looking at: s[6] = pf[6]\n",
      "Operator = has 2 children. \n",
      "     ***** Currently looking at: s[6]\n",
      "Operator ref has 2 children. \n",
      "     ***** Currently looking at: pf[6]\n",
      "Operator ref has 2 children. \n",
      "     ***** Currently looking at: s[7] = (p0[1] ^ 2 + p0[2] ^ 2 + p0[3] ^ 2 + p0[4] ^ 2 + p0[5] ^ 2 + p0[6] ^ 2) - 1\n",
      "Operator = has 2 children. \n",
      "     ***** Currently looking at: s[7]\n",
      "Operator ref has 2 children. \n",
      "     ***** Currently looking at: (p0[1] ^ 2 + p0[2] ^ 2 + p0[3] ^ 2 + p0[4] ^ 2 + p0[5] ^ 2 + p0[6] ^ 2) - 1\n",
      "Operator call has 3 children. \n",
      "     ***** Currently looking at: p0[1] ^ 2 + p0[2] ^ 2 + p0[3] ^ 2 + p0[4] ^ 2 + p0[5] ^ 2 + p0[6] ^ 2\n",
      "Operator call has 7 children. \n",
      "     ***** Currently looking at: p0[1] ^ 2\n",
      "Operator call has 3 children. \n",
      "     ***** Currently looking at: p0[1]\n",
      "Operator ref has 2 children. \n",
      "     ***** Currently looking at: p0[2] ^ 2\n",
      "Operator call has 3 children. \n",
      "     ***** Currently looking at: p0[2]\n",
      "Operator ref has 2 children. \n",
      "     ***** Currently looking at: p0[3] ^ 2\n",
      "Operator call has 3 children. \n",
      "     ***** Currently looking at: p0[3]\n",
      "Operator ref has 2 children. \n",
      "     ***** Currently looking at: p0[4] ^ 2\n",
      "Operator call has 3 children. \n",
      "     ***** Currently looking at: p0[4]\n",
      "Operator ref has 2 children. \n",
      "     ***** Currently looking at: p0[5] ^ 2\n",
      "Operator call has 3 children. \n",
      "     ***** Currently looking at: p0[5]\n",
      "Operator ref has 2 children. \n",
      "     ***** Currently looking at: p0[6] ^ 2\n",
      "Operator call has 3 children. \n",
      "     ***** Currently looking at: p0[6]\n",
      "Operator ref has 2 children. \n",
      "     ***** Currently looking at: return s\n",
      "Operator return has 1 children. \n",
      "     ***** Currently looking at: foo(ξ) = begin\n",
      "        #= none:4 =#\n",
      "        shoot(ξ[1], ξ[2:end])\n",
      "    end\n",
      "Operator = has 2 children. \n",
      "     ***** Currently looking at: foo(ξ)\n",
      "Operator call has 2 children. \n",
      "     ***** Currently looking at: begin\n",
      "    #= none:4 =#\n",
      "    shoot(ξ[1], ξ[2:end])\n",
      "end\n",
      "Operator block has 2 children. \n",
      "     ***** Currently looking at: shoot(ξ[1], ξ[2:end])\n",
      "Operator call has 3 children. \n",
      "     ***** Currently looking at: ξ[1]\n",
      "Operator ref has 2 children. \n",
      "     ***** Currently looking at: ξ[2:end]\n",
      "Operator ref has 2 children. \n",
      "     ***** Currently looking at: 2:end\n",
      "Operator call has 3 children. \n",
      "     ***** Currently looking at: foo!(s, ξ) = begin\n",
      "        #= none:1 =#\n",
      "        s[:] = foo(ξ)\n",
      "        #= none:1 =#\n",
      "        nothing\n",
      "    end\n",
      "Operator = has 2 children. \n",
      "     ***** Currently looking at: foo!(s, ξ)\n",
      "Operator call has 3 children. \n",
      "     ***** Currently looking at: begin\n",
      "    #= none:1 =#\n",
      "    s[:] = foo(ξ)\n",
      "    #= none:1 =#\n",
      "    nothing\n",
      "end\n",
      "Operator block has 4 children. \n",
      "     ***** Currently looking at: s[:] = foo(ξ)\n",
      "Operator = has 2 children. \n",
      "     ***** Currently looking at: s[:]\n",
      "Operator ref has 2 children. \n",
      "     ***** Currently looking at: foo(ξ)\n",
      "Operator call has 2 children. \n",
      "     ***** Currently looking at: some_val = Array{Float64}([0, 0, 0, 0, 0, 0, 0])\n",
      "Operator = has 2 children. \n",
      "     ***** Currently looking at: Array{Float64}([0, 0, 0, 0, 0, 0, 0])\n",
      "Operator call has 2 children. \n",
      "     ***** Currently looking at: Array{Float64}\n",
      "Operator curly has 2 children. \n",
      "     ***** Currently looking at: [0, 0, 0, 0, 0, 0, 0]\n",
      "Operator vect has 7 children. \n",
      "     ***** Currently looking at: foo!(some_val, ξ)\n",
      "Operator call has 3 children. \n",
      "     ***** Currently looking at: cL = cos.(some_val)\n",
      "Operator = has 2 children. \n",
      "     ***** Currently looking at: cos.(some_val)\n",
      "Operator . has 2 children. \n",
      "     ***** Currently looking at: (some_val,)\n",
      "Operator tuple has 1 children. \n",
      "     ***** Currently looking at: sL = sin.(some_val)\n",
      "Operator = has 2 children. \n",
      "     ***** Currently looking at: sin.(some_val)\n",
      "Operator . has 2 children. \n",
      "     ***** Currently looking at: (some_val,)\n",
      "Operator tuple has 1 children. \n"
     ]
    },
    {
     "data": {
      "text/plain": [
       "Set{Any} with 17 elements:\n",
       "  \"call\"\n",
       "  \"vcat\"\n",
       "  \"linenumber\"\n",
       "  \"using\"\n",
       "  \"tuple\"\n",
       "  \"package\"\n",
       "  \"float64\"\n",
       "  \"assign\"\n",
       "  \"int64\"\n",
       "  \"block\"\n",
       "  \"curly\"\n",
       "  \"ref\"\n",
       "  \"toplevel\"\n",
       "  \"function\"\n",
       "  \"none\"\n",
       "  \"vect\"\n",
       "  \"return\""
      ]
     },
     "execution_count": 38,
     "metadata": {},
     "output_type": "execute_result"
    }
   ],
   "source": [
    "all_symbols = file2ast(basic_test, \"outputtest\")"
   ]
  },
  {
   "cell_type": "code",
   "execution_count": 22,
   "id": "33e32e47-5e68-47a7-ab35-dea10d483bce",
   "metadata": {},
   "outputs": [
    {
     "data": {
      "text/plain": [
       ":(using LinearAlgebra)"
      ]
     },
     "execution_count": 22,
     "metadata": {},
     "output_type": "execute_result"
    }
   ],
   "source": [
    "e = Meta.parse(\"using LinearAlgebra\")"
   ]
  },
  {
   "cell_type": "code",
   "execution_count": 23,
   "id": "ca633349-d3c8-4faf-9e90-553c4dfc7b33",
   "metadata": {},
   "outputs": [
    {
     "data": {
      "text/plain": [
       ":using"
      ]
     },
     "execution_count": 23,
     "metadata": {},
     "output_type": "execute_result"
    }
   ],
   "source": [
    "e.head"
   ]
  },
  {
   "cell_type": "code",
   "execution_count": 24,
   "id": "0efc3e4d-b869-454a-ae72-c562ad6ead05",
   "metadata": {},
   "outputs": [
    {
     "data": {
      "text/plain": [
       "1-element Vector{Any}:\n",
       " :($(Expr(:., :LinearAlgebra)))"
      ]
     },
     "execution_count": 24,
     "metadata": {},
     "output_type": "execute_result"
    }
   ],
   "source": [
    "e.args"
   ]
  },
  {
   "cell_type": "code",
   "execution_count": 25,
   "id": "5bb42c34-e155-4484-9952-7e4b28ab534a",
   "metadata": {},
   "outputs": [
    {
     "data": {
      "text/plain": [
       ":."
      ]
     },
     "execution_count": 25,
     "metadata": {},
     "output_type": "execute_result"
    }
   ],
   "source": [
    "e.args[1].head"
   ]
  },
  {
   "cell_type": "code",
   "execution_count": 26,
   "id": "0216fb2a-70f7-473b-8eb3-a466eb3f8298",
   "metadata": {},
   "outputs": [
    {
     "data": {
      "text/plain": [
       ":(using LinearAlgebra, ForwardDiff)"
      ]
     },
     "execution_count": 26,
     "metadata": {},
     "output_type": "execute_result"
    }
   ],
   "source": [
    "g = Meta.parse(\"using LinearAlgebra, ForwardDiff\")"
   ]
  },
  {
   "cell_type": "code",
   "execution_count": 27,
   "id": "a12b0881-368a-45c0-a8b1-b7ddf8344408",
   "metadata": {},
   "outputs": [
    {
     "data": {
      "text/plain": [
       "2-element Vector{Any}:\n",
       " :($(Expr(:., :LinearAlgebra)))\n",
       " :($(Expr(:., :ForwardDiff)))"
      ]
     },
     "execution_count": 27,
     "metadata": {},
     "output_type": "execute_result"
    }
   ],
   "source": [
    "g.args"
   ]
  },
  {
   "cell_type": "code",
   "execution_count": null,
   "id": "59ff581c-7d21-4d6f-ab51-367d226ade15",
   "metadata": {},
   "outputs": [],
   "source": []
  },
  {
   "cell_type": "code",
   "execution_count": null,
   "id": "3982c095-ec94-4ff4-ab09-568a905d0bf6",
   "metadata": {},
   "outputs": [],
   "source": [
    "f = Meta.parse(\"cos.(vect)\")"
   ]
  },
  {
   "cell_type": "code",
   "execution_count": null,
   "id": "23978046-5f11-4712-926a-213c33f55768",
   "metadata": {},
   "outputs": [],
   "source": [
    "f.head"
   ]
  },
  {
   "cell_type": "code",
   "execution_count": null,
   "id": "26b1acc2-db1b-4304-b136-1058e7adfa7b",
   "metadata": {},
   "outputs": [],
   "source": [
    "f.args"
   ]
  },
  {
   "cell_type": "code",
   "execution_count": 28,
   "id": "ac6050eb-fa72-4008-bca8-1861e3d194eb",
   "metadata": {},
   "outputs": [
    {
     "data": {
      "text/plain": [
       "Expr"
      ]
     },
     "execution_count": 28,
     "metadata": {},
     "output_type": "execute_result"
    }
   ],
   "source": [
    "typeof(:($(Expr(:., :LinearAlgebra))))"
   ]
  },
  {
   "cell_type": "code",
   "execution_count": 32,
   "id": "b5c83d0f-25ee-4678-ac7d-1578beb5ea6e",
   "metadata": {},
   "outputs": [
    {
     "ename": "LoadError",
     "evalue": "UndefVarError: `LinearAlgebra` not defined",
     "output_type": "error",
     "traceback": [
      "UndefVarError: `LinearAlgebra` not defined",
      "",
      "Stacktrace:",
      " [1] top-level scope",
      "   @ none:1",
      " [2] top-level scope",
      "   @ In[32]:1"
     ]
    }
   ],
   "source": [
    "@eval ($(Expr(:., :LinearAlgebra)))"
   ]
  },
  {
   "cell_type": "code",
   "execution_count": 34,
   "id": "8ce665c1-ee5c-4bb3-8491-a86a089b9f87",
   "metadata": {},
   "outputs": [
    {
     "data": {
      "text/plain": [
       ":($(Expr(:., :LinearAlgebra)))"
      ]
     },
     "execution_count": 34,
     "metadata": {},
     "output_type": "execute_result"
    }
   ],
   "source": [
    "Expr(:., :LinearAlgebra)"
   ]
  },
  {
   "cell_type": "code",
   "execution_count": null,
   "id": "46781bd6-4411-4003-bec9-234abf258327",
   "metadata": {},
   "outputs": [],
   "source": []
  }
 ],
 "metadata": {
  "kernelspec": {
   "display_name": "Julia 1.9.2",
   "language": "julia",
   "name": "julia-1.9"
  },
  "language_info": {
   "file_extension": ".jl",
   "mimetype": "application/julia",
   "name": "julia",
   "version": "1.9.2"
  }
 },
 "nbformat": 4,
 "nbformat_minor": 5
}
