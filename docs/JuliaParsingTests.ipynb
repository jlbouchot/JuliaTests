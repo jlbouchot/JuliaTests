{
 "cells": [
  {
   "cell_type": "markdown",
   "id": "16fe0f73-795f-435e-8982-64c32e285b4a",
   "metadata": {},
   "source": [
    "# Parsing Julia to Tapenade's IL\n",
    "\n",
    "This notebook shows how to parse julia code into the format used by tapenade in a way to start developping source transform adjoint code. \n",
    "\n",
    "## Load Tapenade's tree structure\n",
    "Start with compiling"
   ]
  },
  {
   "cell_type": "code",
   "execution_count": null,
   "id": "d3ab75bb-7b53-4a5e-aa58-d790f1e990d5",
   "metadata": {},
   "outputs": [],
   "source": [
    "#= \n",
    "Add some info and some calls to the makefile implemented in this example\n",
    "=#"
   ]
  },
  {
   "cell_type": "markdown",
   "id": "cb6dd3b5-6f47-4e17-ac5f-36d41e649f5a",
   "metadata": {},
   "source": [
    "Load the newly created library"
   ]
  },
  {
   "cell_type": "code",
   "execution_count": null,
   "id": "fd7f81c2-46d5-436c-a839-73de0359da62",
   "metadata": {},
   "outputs": [],
   "source": [
    "using Libdl\n",
    "c_libname = \"./julialib.so\"\n",
    "lib = Libdl.dlopen(c_libname) # Open the library explicitly."
   ]
  },
  {
   "cell_type": "markdown",
   "id": "6a375b00-4fc4-4b47-98ae-d0e59e8b648a",
   "metadata": {},
   "source": [
    "Define function handler to useful functions."
   ]
  },
  {
   "cell_type": "code",
   "execution_count": null,
   "id": "45ce9ed2-a28c-409d-85b5-4c805f5b2cc6",
   "metadata": {},
   "outputs": [],
   "source": [
    "# Functions from the tree builder library for parsing the julia tree\n",
    "c_newJuliaTreeBuilder = Libdl.dlsym(lib, :newJuliaTreeBuilder)   # Get a symbol for the function to call. !!!! Redefine this library\n",
    "c_startJuliaTree = Libdl.dlsym(lib, :startJuliaTree)\n",
    "c_turnListFrontier = Libdl.dlsym(lib, :turnListFrontier)\n",
    "## To review: c_startAnnotation = Libdl.dlsym(lib, :startTree) ### This is an extern function, and we might want to have this pointing to another lib!\n",
    "c_putValue = Libdl.dlsym(lib, :putValue) ## Also extern\n",
    "c_putTree = Libdl.dlsym(lib, :putTree) ## Also extern\n",
    "c_oneLessWaiting = Libdl.dlsym(lib, :oneLessWaiting) \n",
    "c_putListTree = Libdl.dlsym(lib, :putListTree) ## Extern\n",
    "c_startDummyTree = Libdl.dlsym(lib, :startDummyTree) ## Extern\n",
    "c_terminateListTree = Libdl.dlsym(lib, :terminateListTree) ## Extern\n",
    "c_getTreeBuilt = Libdl.dlsym(lib, :getTreeBuilt) ## Extern\n",
    "c_getListTreeBuilt = Libdl.dlsym(lib, :getListTreeBuilt) ## Extern\n",
    "c_deleteTreeBuilder = Libdl.dlsym(lib, :deleteTreeBuilder) ## Extern\n",
    "c_resetTreeBuilder = Libdl.dlsym(lib, :resetTreeBuilder) ## Extern\n",
    "c_removeTree = Libdl.dlsym(lib, :removeTree)\n",
    "c_showTreeBuilderState = Libdl.dlsym(lib, :showTreeBuilderState) ## Debug purposes\n",
    "\n",
    "# Functions from cvtp to help producing the tree"
   ]
  },
  {
   "cell_type": "markdown",
   "id": "317f154b-3ded-4843-9d2d-3906fdb6c52b",
   "metadata": {},
   "source": [
    "## Create the associated structures on Julia's side"
   ]
  },
  {
   "cell_type": "code",
   "execution_count": null,
   "id": "35ca5f04-0545-44a1-9e9d-aa331ab93b9e",
   "metadata": {},
   "outputs": [],
   "source": [
    "juliaTreeBuilder = ccall(c_newJuliaTreeBuilder, Ptr{Cvoid}, (Cint,), 5)"
   ]
  },
  {
   "cell_type": "code",
   "execution_count": null,
   "id": "b387fbff-19f0-4165-965f-b8cc6895fe3b",
   "metadata": {},
   "outputs": [],
   "source": [
    "ccall(c_startJuliaTree, Ptr{Cvoid}, (Ptr{Cvoid}, Cstring,), juliaTreeBuilder, \"assign\")"
   ]
  },
  {
   "cell_type": "code",
   "execution_count": null,
   "id": "caba538a-e0ff-4c27-8570-9915d23a955b",
   "metadata": {},
   "outputs": [],
   "source": [
    "ccall(c_showTreeBuilderState, Cvoid, (Ptr{Cvoid},), juliaTreeBuilder)"
   ]
  },
  {
   "cell_type": "code",
   "execution_count": null,
   "id": "5ca322d2-86ea-4b64-82e7-2c476ca3a409",
   "metadata": {},
   "outputs": [],
   "source": [
    "ccall(c_startJuliaTree, Ptr{Cvoid}, (Ptr{Cvoid}, Cstring,), juliaTreeBuilder, \"ident\")"
   ]
  },
  {
   "cell_type": "code",
   "execution_count": null,
   "id": "86db0e4f-0767-44e7-89b6-9d8d6c05fe2e",
   "metadata": {},
   "outputs": [],
   "source": [
    "ccall(c_showTreeBuilderState, Cvoid, (Ptr{Cvoid},), juliaTreeBuilder)"
   ]
  },
  {
   "cell_type": "code",
   "execution_count": null,
   "id": "47e59cf5-9b15-4ce7-ad54-cf416efc9830",
   "metadata": {},
   "outputs": [],
   "source": [
    "ccall(c_putValue, Cvoid, (Ptr{Cvoid}, Cstring), juliaTreeBuilder, \"toto\")"
   ]
  },
  {
   "cell_type": "code",
   "execution_count": null,
   "id": "cb085f03-2df5-4e9f-9f3c-a342a9081239",
   "metadata": {},
   "outputs": [],
   "source": [
    "ccall(c_startJuliaTree, Ptr{Cvoid}, (Ptr{Cvoid}, Cstring,), juliaTreeBuilder, \"int32\")"
   ]
  },
  {
   "cell_type": "code",
   "execution_count": null,
   "id": "b246b956-54e2-438b-a68b-0ad9d62dca6e",
   "metadata": {},
   "outputs": [],
   "source": [
    "ccall(c_putValue, Cvoid, (Ptr{Cvoid}, Cstring), juliaTreeBuilder, \"42\")"
   ]
  },
  {
   "cell_type": "code",
   "execution_count": null,
   "id": "be74639c-19e3-4f9f-beaa-bea629e6a8e1",
   "metadata": {},
   "outputs": [],
   "source": [
    "ccall(c_showTreeBuilderState, Cvoid, (Ptr{Cvoid},), juliaTreeBuilder)"
   ]
  },
  {
   "cell_type": "code",
   "execution_count": null,
   "id": "b78d43b0-3a94-4416-a08a-c976baf69c7b",
   "metadata": {},
   "outputs": [],
   "source": []
  },
  {
   "cell_type": "code",
   "execution_count": null,
   "id": "ad3988cc-8083-4628-8c8c-b42b4152a386",
   "metadata": {},
   "outputs": [],
   "source": []
  },
  {
   "cell_type": "code",
   "execution_count": null,
   "id": "c5376b4d-447b-4b2b-ad3d-4415dfe39c37",
   "metadata": {},
   "outputs": [],
   "source": []
  },
  {
   "cell_type": "code",
   "execution_count": null,
   "id": "b09dc266-c4a6-4b92-8ba9-c5e3e6229cec",
   "metadata": {},
   "outputs": [],
   "source": []
  },
  {
   "cell_type": "code",
   "execution_count": null,
   "id": "f794648c-8b34-4459-abef-49d4899b05c1",
   "metadata": {},
   "outputs": [],
   "source": [
    "using DataStructures"
   ]
  },
  {
   "cell_type": "code",
   "execution_count": null,
   "id": "31740510-d576-4593-8b99-1143541a8875",
   "metadata": {},
   "outputs": [],
   "source": [
    "ct_testfile = \"ct_test.jl\"\n",
    "orig_testfile = \"kepler.jl\"\n",
    "basic_test = \"testfile.jl\""
   ]
  },
  {
   "cell_type": "code",
   "execution_count": null,
   "id": "a5bf025d-c926-4878-8322-5aa5015fd82b",
   "metadata": {},
   "outputs": [],
   "source": [
    "EndOfList = :EndOfList\n",
    "cstSymb = :cst"
   ]
  },
  {
   "cell_type": "code",
   "execution_count": null,
   "id": "6cb5220f-134f-4167-86e8-2ad4e7fdfed5",
   "metadata": {},
   "outputs": [],
   "source": [
    "metalnames = Dict(\n",
    "    :(=) => \"assign\",\n",
    "    :. => \"package\", # Check whether the dot refers to a local path or is synonym for an import\n",
    "    :block => \"block\",\n",
    "    :vect => \"vect\",\n",
    "    :vcat => \"vcat\",\n",
    "    :return => \"return\",\n",
    "    :tuple => \"tuple\",\n",
    "    :ref => \"ref\",\n",
    "    :curly => \"curly\",\n",
    "    :call => \"call\", \n",
    "    :function => \"function\",\n",
    "    :using => \"using\", \n",
    "    :toplevel => \"toplevel\",\n",
    "    Int64 => \"int64\",\n",
    "    Float64 => \"float64\",\n",
    "    Int32 => \"int32\",\n",
    "    Float32 => \"float32\",\n",
    "    LineNumberNode => \"linenumber\",\n",
    "    Nothing => \"none\",\n",
    "    :EndOfList => \"EndOfList\"\n",
    ")"
   ]
  },
  {
   "cell_type": "code",
   "execution_count": null,
   "id": "279a32d5-c1b4-4242-ae17-889bc85e4031",
   "metadata": {},
   "outputs": [],
   "source": [
    "typeof(EndOfList)"
   ]
  },
  {
   "cell_type": "code",
   "execution_count": null,
   "id": "c8f39469-83ee-4aac-aff8-9ffaca753a8e",
   "metadata": {},
   "outputs": [],
   "source": [
    "function file2ast(fname::AbstractString, outfile::AbstractString)\n",
    "    \n",
    "    # tree_builder = ccall(c_newJuliaTreeBuilder, Ptr{Cvoid}, (Cint,), 5)\n",
    "    all_symbols = Set()\n",
    "    open(outfile, \"w\") do out \n",
    "        code = read(fname, String)\n",
    "        ## println(code)\n",
    "\n",
    "        exp_in_waiting = Stack{Any}()\n",
    "        \n",
    "        prev = 0\n",
    "        next = 1\n",
    "        while next > prev \n",
    "            prev = next\n",
    "            exp, next = Meta.parse(code, prev)\n",
    "            push!(exp_in_waiting, exp)\n",
    "            ## println(\"     ***** Currently looking at: \")\n",
    "            ## println(exp)\n",
    "            while !isempty(exp_in_waiting)\n",
    "                e = pop!(exp_in_waiting)\n",
    "                if e isa Expr \n",
    "                    # Parse expression\n",
    "                    # Write current instruction\n",
    "                    println(\"     ***** Currently looking at: \", string(e))\n",
    "                    # println(e.head)\n",
    "                    println(\"Operator \", e.head, \" has \", length(e.args), \" children. \")\n",
    "                    # println(e.args)\n",
    "                    # If Current instruction is a call, make sure to add an end of list\n",
    "                    # Same thing holds for a 'using' statement\n",
    "                    #####################\n",
    "                    # NOTE:             #\n",
    "                    # One might need    #\n",
    "                    # to check if other #\n",
    "                    # keywords need this#\n",
    "                    #####################\n",
    "                    #=if e.head == (:.)\n",
    "                    #if e.head in (:.,)\n",
    "                        println(\"We are here! \", e)\n",
    "                    end =#\n",
    "                    if e.head in (:call, :tuple, :using, :vect) \n",
    "                        push!(exp_in_waiting, EndOfList)\n",
    "                    end\n",
    "                    for arg in Iterators.reverse(e.args)\n",
    "                        push!(exp_in_waiting, arg)\n",
    "                    end\n",
    "                    push!(all_symbols, metalnames[e.head]) \n",
    "                    push!(exp_in_waiting, e.head) \n",
    "                    # write(out, e.head) # New C node from tree builder\n",
    "                    # write(out, \"\\n\")\n",
    "                elseif e isa Symbol\n",
    "                    # Add symbol to file\n",
    "                    #println(\"This is the current symbol: \", e)\n",
    "                    if haskey(metalnames, e) \n",
    "                        write(out, metalnames[e]) # New leaf for current operator\n",
    "                    else\n",
    "                        write(out, \"ident\\n\")\n",
    "                        write(out, e) # New leaf for current operator\n",
    "                    end\n",
    "                    write(out, \"\\n\")\n",
    "                else\n",
    "                    # Neither a symbol nor an expression, it's probably a constant\n",
    "                    ## println(\"Type of our constant thing is \", typeof(e))\n",
    "                    push!(all_symbols, metalnames[typeof(e)])\n",
    "                    write(out, metalnames[typeof(e)])\n",
    "                    write(out, \"\\n\")\n",
    "                    ## println(\"Looking at cst things\")\n",
    "                    ## println(e)\n",
    "                    write(out, string(e))\n",
    "                    write(out, \"\\n\")\n",
    "                end\n",
    "            end\n",
    "                    \n",
    "            \n",
    "        end\n",
    "    end\n",
    "    return all_symbols\n",
    "end"
   ]
  },
  {
   "cell_type": "code",
   "execution_count": null,
   "id": "484a54ad-94b9-473d-9840-60dbfd1e373f",
   "metadata": {},
   "outputs": [],
   "source": [
    "all_symbols = file2ast(basic_test, \"outputtest\")"
   ]
  },
  {
   "cell_type": "code",
   "execution_count": null,
   "id": "33e32e47-5e68-47a7-ab35-dea10d483bce",
   "metadata": {},
   "outputs": [],
   "source": [
    "e = Meta.parse(\"using LinearAlgebra\")"
   ]
  },
  {
   "cell_type": "code",
   "execution_count": null,
   "id": "ca633349-d3c8-4faf-9e90-553c4dfc7b33",
   "metadata": {},
   "outputs": [],
   "source": [
    "e.head"
   ]
  },
  {
   "cell_type": "code",
   "execution_count": null,
   "id": "0efc3e4d-b869-454a-ae72-c562ad6ead05",
   "metadata": {},
   "outputs": [],
   "source": [
    "e.args"
   ]
  },
  {
   "cell_type": "code",
   "execution_count": null,
   "id": "5bb42c34-e155-4484-9952-7e4b28ab534a",
   "metadata": {},
   "outputs": [],
   "source": [
    "e.args[1].head"
   ]
  },
  {
   "cell_type": "code",
   "execution_count": null,
   "id": "0216fb2a-70f7-473b-8eb3-a466eb3f8298",
   "metadata": {},
   "outputs": [],
   "source": [
    "g = Meta.parse(\"using LinearAlgebra, ForwardDiff\")"
   ]
  },
  {
   "cell_type": "code",
   "execution_count": null,
   "id": "a12b0881-368a-45c0-a8b1-b7ddf8344408",
   "metadata": {},
   "outputs": [],
   "source": [
    "g.args"
   ]
  },
  {
   "cell_type": "code",
   "execution_count": null,
   "id": "59ff581c-7d21-4d6f-ab51-367d226ade15",
   "metadata": {},
   "outputs": [],
   "source": []
  },
  {
   "cell_type": "code",
   "execution_count": null,
   "id": "3982c095-ec94-4ff4-ab09-568a905d0bf6",
   "metadata": {},
   "outputs": [],
   "source": [
    "f = Meta.parse(\"cos.(vect)\")"
   ]
  },
  {
   "cell_type": "code",
   "execution_count": null,
   "id": "23978046-5f11-4712-926a-213c33f55768",
   "metadata": {},
   "outputs": [],
   "source": [
    "f.head"
   ]
  },
  {
   "cell_type": "code",
   "execution_count": null,
   "id": "26b1acc2-db1b-4304-b136-1058e7adfa7b",
   "metadata": {},
   "outputs": [],
   "source": [
    "f.args"
   ]
  },
  {
   "cell_type": "code",
   "execution_count": null,
   "id": "ac6050eb-fa72-4008-bca8-1861e3d194eb",
   "metadata": {},
   "outputs": [],
   "source": [
    "typeof(:($(Expr(:., :LinearAlgebra))))"
   ]
  },
  {
   "cell_type": "code",
   "execution_count": null,
   "id": "b5c83d0f-25ee-4678-ac7d-1578beb5ea6e",
   "metadata": {},
   "outputs": [],
   "source": [
    "@eval ($(Expr(:., :LinearAlgebra)))"
   ]
  },
  {
   "cell_type": "code",
   "execution_count": null,
   "id": "8ce665c1-ee5c-4bb3-8491-a86a089b9f87",
   "metadata": {},
   "outputs": [],
   "source": [
    "Expr(:., :LinearAlgebra)"
   ]
  },
  {
   "cell_type": "code",
   "execution_count": null,
   "id": "46781bd6-4411-4003-bec9-234abf258327",
   "metadata": {},
   "outputs": [],
   "source": []
  }
 ],
 "metadata": {
  "kernelspec": {
   "display_name": "Julia 1.9.2",
   "language": "julia",
   "name": "julia-1.9"
  },
  "language_info": {
   "file_extension": ".jl",
   "mimetype": "application/julia",
   "name": "julia",
   "version": "1.9.2"
  }
 },
 "nbformat": 4,
 "nbformat_minor": 5
}
