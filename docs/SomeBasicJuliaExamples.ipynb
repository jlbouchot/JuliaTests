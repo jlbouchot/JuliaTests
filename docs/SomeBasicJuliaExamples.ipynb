{
 "cells": [
  {
   "cell_type": "code",
   "execution_count": 1,
   "id": "e3bbecb3",
   "metadata": {},
   "outputs": [
    {
     "name": "stdout",
     "output_type": "stream",
     "text": [
      "Hello World\n"
     ]
    }
   ],
   "source": [
    "println(\"Hello World\")"
   ]
  },
  {
   "cell_type": "code",
   "execution_count": 2,
   "id": "2a59dd2a",
   "metadata": {},
   "outputs": [
    {
     "data": {
      "text/plain": [
       "100"
      ]
     },
     "execution_count": 2,
     "metadata": {},
     "output_type": "execute_result"
    }
   ],
   "source": [
    "x::Int8 = 100"
   ]
  },
  {
   "cell_type": "code",
   "execution_count": 3,
   "id": "fd28203a",
   "metadata": {},
   "outputs": [
    {
     "data": {
      "text/plain": [
       "100"
      ]
     },
     "execution_count": 3,
     "metadata": {},
     "output_type": "execute_result"
    }
   ],
   "source": [
    "x"
   ]
  },
  {
   "cell_type": "code",
   "execution_count": 4,
   "id": "8560faaf",
   "metadata": {},
   "outputs": [
    {
     "data": {
      "text/plain": [
       "Int8"
      ]
     },
     "execution_count": 4,
     "metadata": {},
     "output_type": "execute_result"
    }
   ],
   "source": [
    "typeof(x)"
   ]
  },
  {
   "cell_type": "code",
   "execution_count": 5,
   "id": "43a9ad28",
   "metadata": {},
   "outputs": [
    {
     "data": {
      "text/plain": [
       "50.0"
      ]
     },
     "execution_count": 5,
     "metadata": {},
     "output_type": "execute_result"
    }
   ],
   "source": [
    "x * 1/2"
   ]
  },
  {
   "cell_type": "code",
   "execution_count": 6,
   "id": "931cd61d",
   "metadata": {},
   "outputs": [
    {
     "data": {
      "text/plain": [
       "50.0"
      ]
     },
     "execution_count": 6,
     "metadata": {},
     "output_type": "execute_result"
    }
   ],
   "source": [
    "x = x*1/2"
   ]
  },
  {
   "cell_type": "code",
   "execution_count": 7,
   "id": "79636962",
   "metadata": {},
   "outputs": [
    {
     "data": {
      "text/plain": [
       "Int8"
      ]
     },
     "execution_count": 7,
     "metadata": {},
     "output_type": "execute_result"
    }
   ],
   "source": [
    "typeof(x)"
   ]
  },
  {
   "cell_type": "code",
   "execution_count": 8,
   "id": "3eb496c8",
   "metadata": {},
   "outputs": [
    {
     "data": {
      "text/plain": [
       "50"
      ]
     },
     "execution_count": 8,
     "metadata": {},
     "output_type": "execute_result"
    }
   ],
   "source": [
    "x"
   ]
  },
  {
   "cell_type": "code",
   "execution_count": 9,
   "id": "59f56d63",
   "metadata": {},
   "outputs": [
    {
     "ename": "LoadError",
     "evalue": "InexactError: Int8(1.5)",
     "output_type": "error",
     "traceback": [
      "InexactError: Int8(1.5)",
      "",
      "Stacktrace:",
      " [1] Int8",
      "   @ ./float.jl:879 [inlined]",
      " [2] convert(#unused#::Type{Int8}, x::Float64)",
      "   @ Base ./number.jl:7",
      " [3] top-level scope",
      "   @ In[9]:1"
     ]
    }
   ],
   "source": [
    "x = 1.5"
   ]
  },
  {
   "cell_type": "code",
   "execution_count": 10,
   "id": "167c0bab",
   "metadata": {},
   "outputs": [
    {
     "ename": "LoadError",
     "evalue": "InexactError: Int8(14.285714285714286)",
     "output_type": "error",
     "traceback": [
      "InexactError: Int8(14.285714285714286)",
      "",
      "Stacktrace:",
      " [1] Int8",
      "   @ ./float.jl:879 [inlined]",
      " [2] convert(#unused#::Type{Int8}, x::Float64)",
      "   @ Base ./number.jl:7",
      " [3] top-level scope",
      "   @ In[10]:1"
     ]
    }
   ],
   "source": [
    "x = x / 3.5"
   ]
  },
  {
   "cell_type": "code",
   "execution_count": 11,
   "id": "4fe7fa5a",
   "metadata": {},
   "outputs": [
    {
     "data": {
      "text/plain": [
       "14.285714285714286"
      ]
     },
     "execution_count": 11,
     "metadata": {},
     "output_type": "execute_result"
    }
   ],
   "source": [
    "x / 3.5"
   ]
  },
  {
   "cell_type": "code",
   "execution_count": 12,
   "id": "7ceb19cf",
   "metadata": {},
   "outputs": [],
   "source": [
    "struct testStruct \n",
    "    a::Integer\n",
    "    b::Int\n",
    "    c::Number\n",
    "end"
   ]
  },
  {
   "cell_type": "code",
   "execution_count": 13,
   "id": "70ac5ed6",
   "metadata": {},
   "outputs": [
    {
     "data": {
      "text/plain": [
       "testStruct(2, 2, 2)"
      ]
     },
     "execution_count": 13,
     "metadata": {},
     "output_type": "execute_result"
    }
   ],
   "source": [
    "a_var = testStruct(2,2,2)"
   ]
  },
  {
   "cell_type": "code",
   "execution_count": 14,
   "id": "ef548f1e",
   "metadata": {},
   "outputs": [
    {
     "data": {
      "text/plain": [
       "testStruct(2, 2, 2)"
      ]
     },
     "execution_count": 14,
     "metadata": {},
     "output_type": "execute_result"
    }
   ],
   "source": [
    "b_var = testStruct(2.0,2.0,2)"
   ]
  },
  {
   "cell_type": "code",
   "execution_count": 15,
   "id": "5e6e5aee",
   "metadata": {},
   "outputs": [
    {
     "ename": "LoadError",
     "evalue": "InexactError: Int64(2.5)",
     "output_type": "error",
     "traceback": [
      "InexactError: Int64(2.5)",
      "",
      "Stacktrace:",
      " [1] Int64",
      "   @ ./float.jl:900 [inlined]",
      " [2] Integer",
      "   @ ./boot.jl:818 [inlined]",
      " [3] convert",
      "   @ ./number.jl:7 [inlined]",
      " [4] testStruct(a::Float64, b::Int64, c::Int64)",
      "   @ Main ./In[12]:2",
      " [5] top-level scope",
      "   @ In[15]:1"
     ]
    }
   ],
   "source": [
    "c_var = testStruct(2.5,2,2)"
   ]
  },
  {
   "cell_type": "code",
   "execution_count": 16,
   "id": "d99c9e11",
   "metadata": {},
   "outputs": [
    {
     "data": {
      "text/plain": [
       "testStruct(2, 2, 2.5)"
      ]
     },
     "execution_count": 16,
     "metadata": {},
     "output_type": "execute_result"
    }
   ],
   "source": [
    "c_var = testStruct(2,2,2.5)"
   ]
  },
  {
   "cell_type": "code",
   "execution_count": 17,
   "id": "88ea239e",
   "metadata": {},
   "outputs": [
    {
     "data": {
      "text/plain": [
       "Float64"
      ]
     },
     "execution_count": 17,
     "metadata": {},
     "output_type": "execute_result"
    }
   ],
   "source": [
    "typeof(c_var.c)"
   ]
  },
  {
   "cell_type": "code",
   "execution_count": 18,
   "id": "6c089672",
   "metadata": {},
   "outputs": [
    {
     "data": {
      "text/plain": [
       "Int64"
      ]
     },
     "execution_count": 18,
     "metadata": {},
     "output_type": "execute_result"
    }
   ],
   "source": [
    "typeof(b_var.c)"
   ]
  },
  {
   "cell_type": "code",
   "execution_count": 19,
   "id": "18e42a75",
   "metadata": {},
   "outputs": [
    {
     "data": {
      "text/plain": [
       "Int64"
      ]
     },
     "execution_count": 19,
     "metadata": {},
     "output_type": "execute_result"
    }
   ],
   "source": [
    "typeof(c_var.a)"
   ]
  },
  {
   "cell_type": "code",
   "execution_count": 20,
   "id": "0a064649",
   "metadata": {},
   "outputs": [
    {
     "data": {
      "text/plain": [
       "testStruct(1, 1, 1)"
      ]
     },
     "execution_count": 20,
     "metadata": {},
     "output_type": "execute_result"
    }
   ],
   "source": [
    "c_var = testStruct(1,1,1)"
   ]
  },
  {
   "cell_type": "code",
   "execution_count": 21,
   "id": "3cadb157",
   "metadata": {},
   "outputs": [
    {
     "data": {
      "text/plain": [
       "testStruct(1, 1, 1)"
      ]
     },
     "execution_count": 21,
     "metadata": {},
     "output_type": "execute_result"
    }
   ],
   "source": [
    "c_var"
   ]
  },
  {
   "cell_type": "code",
   "execution_count": 22,
   "id": "8dcf49dd",
   "metadata": {},
   "outputs": [
    {
     "ename": "LoadError",
     "evalue": "setfield!: immutable struct of type testStruct cannot be changed",
     "output_type": "error",
     "traceback": [
      "setfield!: immutable struct of type testStruct cannot be changed",
      "",
      "Stacktrace:",
      " [1] setproperty!(x::testStruct, f::Symbol, v::Int64)",
      "   @ Base ./Base.jl:38",
      " [2] top-level scope",
      "   @ In[22]:1"
     ]
    }
   ],
   "source": [
    "c_var.b = 2"
   ]
  },
  {
   "cell_type": "code",
   "execution_count": 23,
   "id": "e1a4d6e4",
   "metadata": {},
   "outputs": [],
   "source": [
    "struct mField\n",
    "    arr::Array{AbstractFloat}\n",
    "end"
   ]
  },
  {
   "cell_type": "code",
   "execution_count": 24,
   "id": "c4715ede",
   "metadata": {},
   "outputs": [
    {
     "data": {
      "text/plain": [
       "mField(AbstractFloat[1.0, 2.0, 3.0, 4.0, 5.2])"
      ]
     },
     "execution_count": 24,
     "metadata": {},
     "output_type": "execute_result"
    }
   ],
   "source": [
    "a = mField(Array{Float64}([1.0,2.0,3.0,4.0,5.2]))"
   ]
  },
  {
   "cell_type": "code",
   "execution_count": 25,
   "id": "787945e4",
   "metadata": {},
   "outputs": [
    {
     "ename": "LoadError",
     "evalue": "setfield!: immutable struct of type mField cannot be changed",
     "output_type": "error",
     "traceback": [
      "setfield!: immutable struct of type mField cannot be changed",
      "",
      "Stacktrace:",
      " [1] setproperty!(x::mField, f::Symbol, v::Vector{Float32})",
      "   @ Base ./Base.jl:38",
      " [2] top-level scope",
      "   @ In[25]:1"
     ]
    }
   ],
   "source": [
    "a.arr = Array{Float32}([1.1,2.2])"
   ]
  },
  {
   "cell_type": "code",
   "execution_count": 26,
   "id": "54553df4",
   "metadata": {},
   "outputs": [
    {
     "data": {
      "text/plain": [
       "2.0"
      ]
     },
     "execution_count": 26,
     "metadata": {},
     "output_type": "execute_result"
    }
   ],
   "source": [
    "a.arr[2]"
   ]
  },
  {
   "cell_type": "code",
   "execution_count": 27,
   "id": "b3aa1155",
   "metadata": {},
   "outputs": [
    {
     "data": {
      "text/plain": [
       "2.2"
      ]
     },
     "execution_count": 27,
     "metadata": {},
     "output_type": "execute_result"
    }
   ],
   "source": [
    "a.arr[2] = 2.2"
   ]
  },
  {
   "cell_type": "code",
   "execution_count": 28,
   "id": "8ef76050",
   "metadata": {},
   "outputs": [
    {
     "data": {
      "text/plain": [
       "2.2"
      ]
     },
     "execution_count": 28,
     "metadata": {},
     "output_type": "execute_result"
    }
   ],
   "source": [
    "a.arr[2]"
   ]
  },
  {
   "cell_type": "code",
   "execution_count": 29,
   "id": "934f7b1f",
   "metadata": {},
   "outputs": [],
   "source": [
    "mutable struct mStruct \n",
    "    a::Integer\n",
    "    b\n",
    "    c::AbstractFloat\n",
    "end\n"
   ]
  },
  {
   "cell_type": "code",
   "execution_count": 30,
   "id": "ded663dc",
   "metadata": {},
   "outputs": [
    {
     "data": {
      "text/plain": [
       "mStruct(1, 2, 3.0)"
      ]
     },
     "execution_count": 30,
     "metadata": {},
     "output_type": "execute_result"
    }
   ],
   "source": [
    "mutable_a = mStruct(1,2,3)"
   ]
  },
  {
   "cell_type": "code",
   "execution_count": 31,
   "id": "6d592669",
   "metadata": {},
   "outputs": [
    {
     "data": {
      "text/plain": [
       "mStruct"
      ]
     },
     "execution_count": 31,
     "metadata": {},
     "output_type": "execute_result"
    }
   ],
   "source": [
    "typeof(mutable_a)"
   ]
  },
  {
   "cell_type": "code",
   "execution_count": 32,
   "id": "c0ee19e0",
   "metadata": {},
   "outputs": [
    {
     "data": {
      "text/plain": [
       "\"A string in the middle!\""
      ]
     },
     "execution_count": 32,
     "metadata": {},
     "output_type": "execute_result"
    }
   ],
   "source": [
    "mutable_a.b = \"A string in the middle!\""
   ]
  },
  {
   "cell_type": "code",
   "execution_count": 33,
   "id": "3f888b97",
   "metadata": {},
   "outputs": [],
   "source": [
    "mutable struct mStruct2\n",
    "    a::Vector{Integer}\n",
    "    b\n",
    "    c::AbstractFloat\n",
    "end"
   ]
  },
  {
   "cell_type": "code",
   "execution_count": 34,
   "id": "e9495caf",
   "metadata": {},
   "outputs": [
    {
     "data": {
      "text/plain": [
       "mStruct2(Integer[1, 6, 4, 8], \"This will mutate\", 3.14)"
      ]
     },
     "execution_count": 34,
     "metadata": {},
     "output_type": "execute_result"
    }
   ],
   "source": [
    "truly_mutable = mStruct2(Vector{Int8}([1,6,4,8]), \"This will mutate\", 3.14)"
   ]
  },
  {
   "cell_type": "code",
   "execution_count": 35,
   "id": "fe802220",
   "metadata": {},
   "outputs": [
    {
     "data": {
      "text/plain": [
       "7-element Vector{Int16}:\n",
       "  1\n",
       "  2\n",
       "  4\n",
       "  8\n",
       " 16\n",
       " 32\n",
       " 64"
      ]
     },
     "execution_count": 35,
     "metadata": {},
     "output_type": "execute_result"
    }
   ],
   "source": [
    "truly_mutable.a = Vector{Int16}([1,2,4,8,16,32,64])"
   ]
  },
  {
   "cell_type": "code",
   "execution_count": 36,
   "id": "025cc58d",
   "metadata": {},
   "outputs": [
    {
     "data": {
      "text/plain": [
       "mStruct2(Integer[1, 2, 4, 8, 16, 32, 64], \"This will mutate\", 3.14)"
      ]
     },
     "execution_count": 36,
     "metadata": {},
     "output_type": "execute_result"
    }
   ],
   "source": [
    "truly_mutable"
   ]
  },
  {
   "cell_type": "code",
   "execution_count": 37,
   "id": "8ca99e56",
   "metadata": {},
   "outputs": [
    {
     "data": {
      "text/plain": [
       "DataType"
      ]
     },
     "execution_count": 37,
     "metadata": {},
     "output_type": "execute_result"
    }
   ],
   "source": [
    "typeof(Int)"
   ]
  },
  {
   "cell_type": "code",
   "execution_count": 38,
   "id": "bf3ecacf",
   "metadata": {},
   "outputs": [
    {
     "data": {
      "text/plain": [
       "DataType"
      ]
     },
     "execution_count": 38,
     "metadata": {},
     "output_type": "execute_result"
    }
   ],
   "source": [
    "typeof(mStruct2)"
   ]
  },
  {
   "cell_type": "markdown",
   "id": "9d249b85",
   "metadata": {},
   "source": [
    "Understanding parametric types (i.e. Polymorphism or TemplatedTypes)"
   ]
  },
  {
   "cell_type": "code",
   "execution_count": 39,
   "id": "69b64bbb",
   "metadata": {},
   "outputs": [],
   "source": [
    "struct Point{T}\n",
    "    x::T\n",
    "    y::T\n",
    "    name\n",
    "end"
   ]
  },
  {
   "cell_type": "code",
   "execution_count": 40,
   "id": "ecc674ae",
   "metadata": {},
   "outputs": [
    {
     "data": {
      "text/plain": [
       "true"
      ]
     },
     "execution_count": 40,
     "metadata": {},
     "output_type": "execute_result"
    }
   ],
   "source": [
    "Point{AbstractFloat} <: Point"
   ]
  },
  {
   "cell_type": "code",
   "execution_count": 41,
   "id": "046e993d",
   "metadata": {},
   "outputs": [
    {
     "data": {
      "text/plain": [
       "false"
      ]
     },
     "execution_count": 41,
     "metadata": {},
     "output_type": "execute_result"
    }
   ],
   "source": [
    "Point{Float64} <: Point{AbstractFloat}"
   ]
  },
  {
   "cell_type": "code",
   "execution_count": 42,
   "id": "53f2fe96",
   "metadata": {},
   "outputs": [
    {
     "data": {
      "text/plain": [
       "false"
      ]
     },
     "execution_count": 42,
     "metadata": {},
     "output_type": "execute_result"
    }
   ],
   "source": [
    "Point{Float64} <: Point{Number}"
   ]
  },
  {
   "cell_type": "code",
   "execution_count": 43,
   "id": "b8e280a9",
   "metadata": {},
   "outputs": [
    {
     "data": {
      "text/plain": [
       "false"
      ]
     },
     "execution_count": 43,
     "metadata": {},
     "output_type": "execute_result"
    }
   ],
   "source": [
    "Point{Float64} <: Point{Any}"
   ]
  },
  {
   "cell_type": "code",
   "execution_count": 44,
   "id": "01725a58",
   "metadata": {},
   "outputs": [
    {
     "data": {
      "text/plain": [
       "Point{Float64}(2.0, 1.0, \"Implicit\")"
      ]
     },
     "execution_count": 44,
     "metadata": {},
     "output_type": "execute_result"
    }
   ],
   "source": [
    "implicit_p_real  = Point(2.0,1.0,\"Implicit\")"
   ]
  },
  {
   "cell_type": "code",
   "execution_count": 45,
   "id": "0d2dcd90",
   "metadata": {},
   "outputs": [
    {
     "data": {
      "text/plain": [
       "Point{Real}(2.0, 1.0, \"Explicit\")"
      ]
     },
     "execution_count": 45,
     "metadata": {},
     "output_type": "execute_result"
    }
   ],
   "source": [
    "explicit_p_real = Point{Real}(2.0, 1.0, \"Explicit\")"
   ]
  },
  {
   "cell_type": "code",
   "execution_count": 46,
   "id": "97f5b3d0",
   "metadata": {},
   "outputs": [
    {
     "ename": "LoadError",
     "evalue": "MethodError: no method matching Point(::Int64, ::Float64, ::String)\n\n\u001b[0mClosest candidates are:\n\u001b[0m  Point(::T, \u001b[91m::T\u001b[39m, ::Any) where T\n\u001b[0m\u001b[90m   @\u001b[39m \u001b[35mMain\u001b[39m \u001b[90m\u001b[4mIn[39]:2\u001b[24m\u001b[39m\n",
     "output_type": "error",
     "traceback": [
      "MethodError: no method matching Point(::Int64, ::Float64, ::String)\n\n\u001b[0mClosest candidates are:\n\u001b[0m  Point(::T, \u001b[91m::T\u001b[39m, ::Any) where T\n\u001b[0m\u001b[90m   @\u001b[39m \u001b[35mMain\u001b[39m \u001b[90m\u001b[4mIn[39]:2\u001b[24m\u001b[39m\n",
      "",
      "Stacktrace:",
      " [1] top-level scope",
      "   @ In[46]:1"
     ]
    }
   ],
   "source": [
    "problematic_point = Point(1, 2.0, \"Error\")"
   ]
  },
  {
   "cell_type": "code",
   "execution_count": 47,
   "id": "74b166e2",
   "metadata": {},
   "outputs": [
    {
     "ename": "LoadError",
     "evalue": "MethodError: no method matching Point(::Float32, ::Float16, ::String)\n\n\u001b[0mClosest candidates are:\n\u001b[0m  Point(::T, \u001b[91m::T\u001b[39m, ::Any) where T\n\u001b[0m\u001b[90m   @\u001b[39m \u001b[35mMain\u001b[39m \u001b[90m\u001b[4mIn[39]:2\u001b[24m\u001b[39m\n",
     "output_type": "error",
     "traceback": [
      "MethodError: no method matching Point(::Float32, ::Float16, ::String)\n\n\u001b[0mClosest candidates are:\n\u001b[0m  Point(::T, \u001b[91m::T\u001b[39m, ::Any) where T\n\u001b[0m\u001b[90m   @\u001b[39m \u001b[35mMain\u001b[39m \u001b[90m\u001b[4mIn[39]:2\u001b[24m\u001b[39m\n",
      "",
      "Stacktrace:",
      " [1] top-level scope",
      "   @ In[47]:1"
     ]
    }
   ],
   "source": [
    "Point(Float32(2.0), Float16(1.0), \"Different T\")"
   ]
  },
  {
   "cell_type": "code",
   "execution_count": 48,
   "id": "7bc92303",
   "metadata": {},
   "outputs": [
    {
     "data": {
      "text/plain": [
       "Point{Float64}(2.0, 1.0, \"Different T\")"
      ]
     },
     "execution_count": 48,
     "metadata": {},
     "output_type": "execute_result"
    }
   ],
   "source": [
    "Point(Float64(2.0), AbstractFloat(1.0), \"Different T\")"
   ]
  },
  {
   "cell_type": "code",
   "execution_count": null,
   "id": "b094f18c",
   "metadata": {},
   "outputs": [],
   "source": []
  },
  {
   "cell_type": "markdown",
   "id": "b96cee6d",
   "metadata": {},
   "source": [
    "## Tuples, named tuples, struct"
   ]
  },
  {
   "cell_type": "markdown",
   "id": "b2917cdc",
   "metadata": {},
   "source": [
    "Understanding tuples, named tuples, and their differences with struct"
   ]
  },
  {
   "cell_type": "code",
   "execution_count": 49,
   "id": "9a74401c",
   "metadata": {},
   "outputs": [
    {
     "data": {
      "text/plain": [
       "NamedTuple{(:fr_name, :rom_name), Tuple{AbstractString, AbstractString}}"
      ]
     },
     "execution_count": 49,
     "metadata": {},
     "output_type": "execute_result"
    }
   ],
   "source": [
    "@NamedTuple begin\n",
    "    fr_name::AbstractString\n",
    "    rom_name::AbstractString\n",
    "end\n"
   ]
  },
  {
   "cell_type": "code",
   "execution_count": 50,
   "id": "133b879e",
   "metadata": {},
   "outputs": [
    {
     "data": {
      "text/plain": [
       "(fr = \"Paris\", old = \"Lutetia\")"
      ]
     },
     "execution_count": 50,
     "metadata": {},
     "output_type": "execute_result"
    }
   ],
   "source": [
    "paris = (fr = \"Paris\", old = \"Lutetia\")"
   ]
  },
  {
   "cell_type": "code",
   "execution_count": 51,
   "id": "8cdf60a8",
   "metadata": {},
   "outputs": [
    {
     "data": {
      "text/plain": [
       "NamedTuple{(:fr, :old), Tuple{String, String}}"
      ]
     },
     "execution_count": 51,
     "metadata": {},
     "output_type": "execute_result"
    }
   ],
   "source": [
    "typeof(paris)"
   ]
  },
  {
   "cell_type": "code",
   "execution_count": 52,
   "id": "08e273f0",
   "metadata": {},
   "outputs": [
    {
     "data": {
      "text/plain": [
       "\"Lutetia\""
      ]
     },
     "execution_count": 52,
     "metadata": {},
     "output_type": "execute_result"
    }
   ],
   "source": [
    "paris.old"
   ]
  },
  {
   "cell_type": "code",
   "execution_count": 53,
   "id": "f62f6f5f",
   "metadata": {},
   "outputs": [
    {
     "ename": "LoadError",
     "evalue": "setfield!: immutable struct of type NamedTuple cannot be changed",
     "output_type": "error",
     "traceback": [
      "setfield!: immutable struct of type NamedTuple cannot be changed",
      "",
      "Stacktrace:",
      " [1] setproperty!(x::NamedTuple{(:fr, :old), Tuple{String, String}}, f::Symbol, v::String)",
      "   @ Base ./Base.jl:38",
      " [2] top-level scope",
      "   @ In[53]:1"
     ]
    }
   ],
   "source": [
    "paris.old = \"Luttece\""
   ]
  },
  {
   "cell_type": "code",
   "execution_count": null,
   "id": "e11098c4",
   "metadata": {},
   "outputs": [],
   "source": []
  },
  {
   "cell_type": "markdown",
   "id": "2c551dc1",
   "metadata": {},
   "source": [
    "## UnionTypes"
   ]
  },
  {
   "cell_type": "markdown",
   "id": "1dc4e627",
   "metadata": {},
   "source": [
    "They are used through the `where` keyword and pretty much expands on every possible things. The highest level is `Something{T} where T` which is pretty much anything you want. \n",
    "\n",
    "For every single `where` is associated a single type variable, i.e. if something is parametrised by two type variables, then a full expansion of the `UnionAll` type would require two `where`'s. "
   ]
  },
  {
   "cell_type": "code",
   "execution_count": 54,
   "id": "09f4c7ac",
   "metadata": {},
   "outputs": [
    {
     "data": {
      "text/plain": [
       "arraySum (generic function with 1 method)"
      ]
     },
     "execution_count": 54,
     "metadata": {},
     "output_type": "execute_result"
    }
   ],
   "source": [
    "function arraySum(a::Array{T} where T <: Integer)\n",
    "    res = 0\n",
    "    for v in a\n",
    "        res += v\n",
    "    end\n",
    "    return res\n",
    "end"
   ]
  },
  {
   "cell_type": "code",
   "execution_count": 55,
   "id": "046b5659",
   "metadata": {},
   "outputs": [
    {
     "data": {
      "text/plain": [
       "61"
      ]
     },
     "execution_count": 55,
     "metadata": {},
     "output_type": "execute_result"
    }
   ],
   "source": [
    "arraySum(Array{Int8}([1,2,4,8,9,7,30]))"
   ]
  },
  {
   "cell_type": "code",
   "execution_count": 56,
   "id": "6c463860",
   "metadata": {},
   "outputs": [
    {
     "ename": "LoadError",
     "evalue": "MethodError: no method matching arraySum(::Vector{Float16})\n\n\u001b[0mClosest candidates are:\n\u001b[0m  arraySum(\u001b[91m::Array{T} where T<:Integer\u001b[39m)\n\u001b[0m\u001b[90m   @\u001b[39m \u001b[35mMain\u001b[39m \u001b[90m\u001b[4mIn[54]:1\u001b[24m\u001b[39m\n",
     "output_type": "error",
     "traceback": [
      "MethodError: no method matching arraySum(::Vector{Float16})\n\n\u001b[0mClosest candidates are:\n\u001b[0m  arraySum(\u001b[91m::Array{T} where T<:Integer\u001b[39m)\n\u001b[0m\u001b[90m   @\u001b[39m \u001b[35mMain\u001b[39m \u001b[90m\u001b[4mIn[54]:1\u001b[24m\u001b[39m\n",
      "",
      "Stacktrace:",
      " [1] top-level scope",
      "   @ In[56]:1"
     ]
    }
   ],
   "source": [
    "arraySum(Array{Float16}([1,2,4,8,9,7,30]))"
   ]
  },
  {
   "cell_type": "markdown",
   "id": "304ccfa2",
   "metadata": {},
   "source": [
    "One can arrive at fairly intricated things regarding the position of the `where` keyword. Thinking in terms of list expansions, things become clearer, but they are worth the attention. For instance "
   ]
  },
  {
   "cell_type": "code",
   "execution_count": 57,
   "id": "191fca24",
   "metadata": {},
   "outputs": [
    {
     "data": {
      "text/plain": [
       "sumOfDoulbeArrayMultitype (generic function with 1 method)"
      ]
     },
     "execution_count": 57,
     "metadata": {},
     "output_type": "execute_result"
    }
   ],
   "source": [
    "const Multitype = Array{Array{T,1} where T <: Real, 1}\n",
    "function sumOfDoulbeArrayMultitype(a::Multitype)\n",
    "    res = 0\n",
    "    for suba in a\n",
    "        for v in suba\n",
    "            res += v\n",
    "        end\n",
    "    end\n",
    "    return res\n",
    "end"
   ]
  },
  {
   "cell_type": "code",
   "execution_count": 58,
   "id": "99a77ba2",
   "metadata": {},
   "outputs": [
    {
     "data": {
      "text/plain": [
       "Float16(7.832)"
      ]
     },
     "execution_count": 58,
     "metadata": {},
     "output_type": "execute_result"
    }
   ],
   "source": [
    "exMulti = Multitype(Array([Array{Int8}([1,2,3]), Array{Float16}([1,1/2,1/3])]))\n",
    "sumOfDoulbeArrayMultitype(exMulti)"
   ]
  },
  {
   "cell_type": "code",
   "execution_count": 59,
   "id": "3a8e08af",
   "metadata": {},
   "outputs": [
    {
     "data": {
      "text/plain": [
       "sumOfDoulbeArraySingletype (generic function with 1 method)"
      ]
     },
     "execution_count": 59,
     "metadata": {},
     "output_type": "execute_result"
    }
   ],
   "source": [
    "const Singletype = Array{Array{T,1},1} where T <: Real\n",
    "function sumOfDoulbeArraySingletype(a::Singletype)\n",
    "    res = 0\n",
    "    for suba in a\n",
    "        for v in suba\n",
    "            res += v\n",
    "        end\n",
    "    end\n",
    "    return res\n",
    "end"
   ]
  },
  {
   "cell_type": "code",
   "execution_count": 60,
   "id": "4c1747ab",
   "metadata": {},
   "outputs": [
    {
     "ename": "LoadError",
     "evalue": "MethodError: no method matching (Array{Vector{T}, 1} where T<:Real)(::Vector{Vector{Float16}})",
     "output_type": "error",
     "traceback": [
      "MethodError: no method matching (Array{Vector{T}, 1} where T<:Real)(::Vector{Vector{Float16}})",
      "",
      "Stacktrace:",
      " [1] top-level scope",
      "   @ In[60]:1"
     ]
    }
   ],
   "source": [
    "exSingle = Singletype(Array([Array{Int8}([1,2,3]), Array{Float16}([1,1/2,1/3])]))\n",
    "sumOfDoulbeArraySingletype(exSingle)"
   ]
  },
  {
   "cell_type": "code",
   "execution_count": null,
   "id": "ef83ac03",
   "metadata": {},
   "outputs": [],
   "source": []
  },
  {
   "cell_type": "code",
   "execution_count": null,
   "id": "f6ab18ed",
   "metadata": {},
   "outputs": [],
   "source": []
  },
  {
   "cell_type": "code",
   "execution_count": null,
   "id": "67da97e4",
   "metadata": {},
   "outputs": [],
   "source": []
  },
  {
   "cell_type": "code",
   "execution_count": null,
   "id": "43ef2d70",
   "metadata": {},
   "outputs": [],
   "source": []
  }
 ],
 "metadata": {
  "kernelspec": {
   "display_name": "Julia 1.9.2",
   "language": "julia",
   "name": "julia-1.9"
  },
  "language_info": {
   "file_extension": ".jl",
   "mimetype": "application/julia",
   "name": "julia",
   "version": "1.9.2"
  }
 },
 "nbformat": 4,
 "nbformat_minor": 5
}
