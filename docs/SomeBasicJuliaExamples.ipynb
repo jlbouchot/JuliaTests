{
 "cells": [
  {
   "cell_type": "code",
   "execution_count": 1,
   "id": "e3bbecb3",
   "metadata": {},
   "outputs": [
    {
     "name": "stdout",
     "output_type": "stream",
     "text": [
      "Hello World\n"
     ]
    }
   ],
   "source": [
    "println(\"Hello World\")"
   ]
  },
  {
   "cell_type": "code",
   "execution_count": 2,
   "id": "2a59dd2a",
   "metadata": {},
   "outputs": [
    {
     "data": {
      "text/plain": [
       "100"
      ]
     },
     "execution_count": 2,
     "metadata": {},
     "output_type": "execute_result"
    }
   ],
   "source": [
    "x::Int8 = 100"
   ]
  },
  {
   "cell_type": "code",
   "execution_count": 3,
   "id": "fd28203a",
   "metadata": {},
   "outputs": [
    {
     "data": {
      "text/plain": [
       "100"
      ]
     },
     "execution_count": 3,
     "metadata": {},
     "output_type": "execute_result"
    }
   ],
   "source": [
    "x"
   ]
  },
  {
   "cell_type": "code",
   "execution_count": 4,
   "id": "8560faaf",
   "metadata": {},
   "outputs": [
    {
     "data": {
      "text/plain": [
       "Int8"
      ]
     },
     "execution_count": 4,
     "metadata": {},
     "output_type": "execute_result"
    }
   ],
   "source": [
    "typeof(x)"
   ]
  },
  {
   "cell_type": "code",
   "execution_count": 5,
   "id": "43a9ad28",
   "metadata": {},
   "outputs": [
    {
     "data": {
      "text/plain": [
       "50.0"
      ]
     },
     "execution_count": 5,
     "metadata": {},
     "output_type": "execute_result"
    }
   ],
   "source": [
    "x * 1/2"
   ]
  },
  {
   "cell_type": "code",
   "execution_count": 6,
   "id": "931cd61d",
   "metadata": {},
   "outputs": [
    {
     "data": {
      "text/plain": [
       "50.0"
      ]
     },
     "execution_count": 6,
     "metadata": {},
     "output_type": "execute_result"
    }
   ],
   "source": [
    "x = x*1/2"
   ]
  },
  {
   "cell_type": "code",
   "execution_count": 7,
   "id": "79636962",
   "metadata": {},
   "outputs": [
    {
     "data": {
      "text/plain": [
       "Int8"
      ]
     },
     "execution_count": 7,
     "metadata": {},
     "output_type": "execute_result"
    }
   ],
   "source": [
    "typeof(x)"
   ]
  },
  {
   "cell_type": "code",
   "execution_count": 8,
   "id": "3eb496c8",
   "metadata": {},
   "outputs": [
    {
     "data": {
      "text/plain": [
       "50"
      ]
     },
     "execution_count": 8,
     "metadata": {},
     "output_type": "execute_result"
    }
   ],
   "source": [
    "x"
   ]
  },
  {
   "cell_type": "code",
   "execution_count": 9,
   "id": "59f56d63",
   "metadata": {},
   "outputs": [
    {
     "ename": "LoadError",
     "evalue": "InexactError: Int8(1.5)",
     "output_type": "error",
     "traceback": [
      "InexactError: Int8(1.5)",
      "",
      "Stacktrace:",
      " [1] Int8",
      "   @ ./float.jl:879 [inlined]",
      " [2] convert(#unused#::Type{Int8}, x::Float64)",
      "   @ Base ./number.jl:7",
      " [3] top-level scope",
      "   @ In[9]:1"
     ]
    }
   ],
   "source": [
    "x = 1.5"
   ]
  },
  {
   "cell_type": "code",
   "execution_count": 10,
   "id": "167c0bab",
   "metadata": {},
   "outputs": [
    {
     "ename": "LoadError",
     "evalue": "InexactError: Int8(14.285714285714286)",
     "output_type": "error",
     "traceback": [
      "InexactError: Int8(14.285714285714286)",
      "",
      "Stacktrace:",
      " [1] Int8",
      "   @ ./float.jl:879 [inlined]",
      " [2] convert(#unused#::Type{Int8}, x::Float64)",
      "   @ Base ./number.jl:7",
      " [3] top-level scope",
      "   @ In[10]:1"
     ]
    }
   ],
   "source": [
    "x = x / 3.5"
   ]
  },
  {
   "cell_type": "code",
   "execution_count": 11,
   "id": "4fe7fa5a",
   "metadata": {},
   "outputs": [
    {
     "data": {
      "text/plain": [
       "14.285714285714286"
      ]
     },
     "execution_count": 11,
     "metadata": {},
     "output_type": "execute_result"
    }
   ],
   "source": [
    "x / 3.5"
   ]
  },
  {
   "cell_type": "code",
   "execution_count": 12,
   "id": "7ceb19cf",
   "metadata": {},
   "outputs": [],
   "source": [
    "struct testStruct \n",
    "    a::Integer\n",
    "    b::Int\n",
    "    c::Number\n",
    "end"
   ]
  },
  {
   "cell_type": "code",
   "execution_count": 13,
   "id": "70ac5ed6",
   "metadata": {},
   "outputs": [
    {
     "data": {
      "text/plain": [
       "testStruct(2, 2, 2)"
      ]
     },
     "execution_count": 13,
     "metadata": {},
     "output_type": "execute_result"
    }
   ],
   "source": [
    "a_var = testStruct(2,2,2)"
   ]
  },
  {
   "cell_type": "code",
   "execution_count": 14,
   "id": "ef548f1e",
   "metadata": {},
   "outputs": [
    {
     "data": {
      "text/plain": [
       "testStruct(2, 2, 2)"
      ]
     },
     "execution_count": 14,
     "metadata": {},
     "output_type": "execute_result"
    }
   ],
   "source": [
    "b_var = testStruct(2.0,2.0,2)"
   ]
  },
  {
   "cell_type": "code",
   "execution_count": 15,
   "id": "5e6e5aee",
   "metadata": {},
   "outputs": [
    {
     "ename": "LoadError",
     "evalue": "InexactError: Int64(2.5)",
     "output_type": "error",
     "traceback": [
      "InexactError: Int64(2.5)",
      "",
      "Stacktrace:",
      " [1] Int64",
      "   @ ./float.jl:900 [inlined]",
      " [2] Integer",
      "   @ ./boot.jl:818 [inlined]",
      " [3] convert",
      "   @ ./number.jl:7 [inlined]",
      " [4] testStruct(a::Float64, b::Int64, c::Int64)",
      "   @ Main ./In[12]:2",
      " [5] top-level scope",
      "   @ In[15]:1"
     ]
    }
   ],
   "source": [
    "c_var = testStruct(2.5,2,2)"
   ]
  },
  {
   "cell_type": "code",
   "execution_count": 16,
   "id": "d99c9e11",
   "metadata": {},
   "outputs": [
    {
     "data": {
      "text/plain": [
       "testStruct(2, 2, 2.5)"
      ]
     },
     "execution_count": 16,
     "metadata": {},
     "output_type": "execute_result"
    }
   ],
   "source": [
    "c_var = testStruct(2,2,2.5)"
   ]
  },
  {
   "cell_type": "code",
   "execution_count": 17,
   "id": "88ea239e",
   "metadata": {},
   "outputs": [
    {
     "data": {
      "text/plain": [
       "Float64"
      ]
     },
     "execution_count": 17,
     "metadata": {},
     "output_type": "execute_result"
    }
   ],
   "source": [
    "typeof(c_var.c)"
   ]
  },
  {
   "cell_type": "code",
   "execution_count": 18,
   "id": "6c089672",
   "metadata": {},
   "outputs": [
    {
     "data": {
      "text/plain": [
       "Int64"
      ]
     },
     "execution_count": 18,
     "metadata": {},
     "output_type": "execute_result"
    }
   ],
   "source": [
    "typeof(b_var.c)"
   ]
  },
  {
   "cell_type": "code",
   "execution_count": 19,
   "id": "18e42a75",
   "metadata": {},
   "outputs": [
    {
     "data": {
      "text/plain": [
       "Int64"
      ]
     },
     "execution_count": 19,
     "metadata": {},
     "output_type": "execute_result"
    }
   ],
   "source": [
    "typeof(c_var.a)"
   ]
  },
  {
   "cell_type": "code",
   "execution_count": 20,
   "id": "0a064649",
   "metadata": {},
   "outputs": [
    {
     "data": {
      "text/plain": [
       "testStruct(1, 1, 1)"
      ]
     },
     "execution_count": 20,
     "metadata": {},
     "output_type": "execute_result"
    }
   ],
   "source": [
    "c_var = testStruct(1,1,1)"
   ]
  },
  {
   "cell_type": "code",
   "execution_count": 21,
   "id": "3cadb157",
   "metadata": {},
   "outputs": [
    {
     "data": {
      "text/plain": [
       "testStruct(1, 1, 1)"
      ]
     },
     "execution_count": 21,
     "metadata": {},
     "output_type": "execute_result"
    }
   ],
   "source": [
    "c_var"
   ]
  },
  {
   "cell_type": "code",
   "execution_count": 22,
   "id": "8dcf49dd",
   "metadata": {},
   "outputs": [
    {
     "ename": "LoadError",
     "evalue": "setfield!: immutable struct of type testStruct cannot be changed",
     "output_type": "error",
     "traceback": [
      "setfield!: immutable struct of type testStruct cannot be changed",
      "",
      "Stacktrace:",
      " [1] setproperty!(x::testStruct, f::Symbol, v::Int64)",
      "   @ Base ./Base.jl:38",
      " [2] top-level scope",
      "   @ In[22]:1"
     ]
    }
   ],
   "source": [
    "c_var.b = 2"
   ]
  },
  {
   "cell_type": "code",
   "execution_count": 23,
   "id": "e1a4d6e4",
   "metadata": {},
   "outputs": [],
   "source": [
    "struct mField\n",
    "    arr::Array{AbstractFloat}\n",
    "end"
   ]
  },
  {
   "cell_type": "code",
   "execution_count": 24,
   "id": "c4715ede",
   "metadata": {},
   "outputs": [
    {
     "data": {
      "text/plain": [
       "mField(AbstractFloat[1.0, 2.0, 3.0, 4.0, 5.2])"
      ]
     },
     "execution_count": 24,
     "metadata": {},
     "output_type": "execute_result"
    }
   ],
   "source": [
    "a = mField(Array{Float64}([1.0,2.0,3.0,4.0,5.2]))"
   ]
  },
  {
   "cell_type": "code",
   "execution_count": 25,
   "id": "787945e4",
   "metadata": {},
   "outputs": [
    {
     "ename": "LoadError",
     "evalue": "setfield!: immutable struct of type mField cannot be changed",
     "output_type": "error",
     "traceback": [
      "setfield!: immutable struct of type mField cannot be changed",
      "",
      "Stacktrace:",
      " [1] setproperty!(x::mField, f::Symbol, v::Vector{Float32})",
      "   @ Base ./Base.jl:38",
      " [2] top-level scope",
      "   @ In[25]:1"
     ]
    }
   ],
   "source": [
    "a.arr = Array{Float32}([1.1,2.2])"
   ]
  },
  {
   "cell_type": "code",
   "execution_count": 26,
   "id": "54553df4",
   "metadata": {},
   "outputs": [
    {
     "data": {
      "text/plain": [
       "2.0"
      ]
     },
     "execution_count": 26,
     "metadata": {},
     "output_type": "execute_result"
    }
   ],
   "source": [
    "a.arr[2]"
   ]
  },
  {
   "cell_type": "code",
   "execution_count": 27,
   "id": "b3aa1155",
   "metadata": {},
   "outputs": [
    {
     "data": {
      "text/plain": [
       "2.2"
      ]
     },
     "execution_count": 27,
     "metadata": {},
     "output_type": "execute_result"
    }
   ],
   "source": [
    "a.arr[2] = 2.2"
   ]
  },
  {
   "cell_type": "code",
   "execution_count": 28,
   "id": "8ef76050",
   "metadata": {},
   "outputs": [
    {
     "data": {
      "text/plain": [
       "2.2"
      ]
     },
     "execution_count": 28,
     "metadata": {},
     "output_type": "execute_result"
    }
   ],
   "source": [
    "a.arr[2]"
   ]
  },
  {
   "cell_type": "code",
   "execution_count": 29,
   "id": "934f7b1f",
   "metadata": {},
   "outputs": [],
   "source": [
    "mutable struct mStruct \n",
    "    a::Integer\n",
    "    b\n",
    "    c::AbstractFloat\n",
    "end\n"
   ]
  },
  {
   "cell_type": "code",
   "execution_count": 30,
   "id": "ded663dc",
   "metadata": {},
   "outputs": [
    {
     "data": {
      "text/plain": [
       "mStruct(1, 2, 3.0)"
      ]
     },
     "execution_count": 30,
     "metadata": {},
     "output_type": "execute_result"
    }
   ],
   "source": [
    "mutable_a = mStruct(1,2,3)"
   ]
  },
  {
   "cell_type": "code",
   "execution_count": 31,
   "id": "6d592669",
   "metadata": {},
   "outputs": [
    {
     "data": {
      "text/plain": [
       "mStruct"
      ]
     },
     "execution_count": 31,
     "metadata": {},
     "output_type": "execute_result"
    }
   ],
   "source": [
    "typeof(mutable_a)"
   ]
  },
  {
   "cell_type": "code",
   "execution_count": 33,
   "id": "c0ee19e0",
   "metadata": {},
   "outputs": [
    {
     "data": {
      "text/plain": [
       "\"A string in the middle!\""
      ]
     },
     "execution_count": 33,
     "metadata": {},
     "output_type": "execute_result"
    }
   ],
   "source": [
    "mutable_a.b = \"A string in the middle!\""
   ]
  },
  {
   "cell_type": "code",
   "execution_count": 34,
   "id": "3f888b97",
   "metadata": {},
   "outputs": [],
   "source": [
    "mutable struct mStruct2\n",
    "    a::Vector{Integer}\n",
    "    b\n",
    "    c::AbstractFloat\n",
    "end"
   ]
  },
  {
   "cell_type": "code",
   "execution_count": 35,
   "id": "e9495caf",
   "metadata": {},
   "outputs": [
    {
     "data": {
      "text/plain": [
       "mStruct2(Integer[1, 6, 4, 8], \"This will mutate\", 3.14)"
      ]
     },
     "execution_count": 35,
     "metadata": {},
     "output_type": "execute_result"
    }
   ],
   "source": [
    "truly_mutable = mStruct2(Vector{Int8}([1,6,4,8]), \"This will mutate\", 3.14)"
   ]
  },
  {
   "cell_type": "code",
   "execution_count": 36,
   "id": "fe802220",
   "metadata": {},
   "outputs": [
    {
     "data": {
      "text/plain": [
       "7-element Vector{Int16}:\n",
       "  1\n",
       "  2\n",
       "  4\n",
       "  8\n",
       " 16\n",
       " 32\n",
       " 64"
      ]
     },
     "execution_count": 36,
     "metadata": {},
     "output_type": "execute_result"
    }
   ],
   "source": [
    "truly_mutable.a = Vector{Int16}([1,2,4,8,16,32,64])"
   ]
  },
  {
   "cell_type": "code",
   "execution_count": 37,
   "id": "025cc58d",
   "metadata": {},
   "outputs": [
    {
     "data": {
      "text/plain": [
       "mStruct2(Integer[1, 2, 4, 8, 16, 32, 64], \"This will mutate\", 3.14)"
      ]
     },
     "execution_count": 37,
     "metadata": {},
     "output_type": "execute_result"
    }
   ],
   "source": [
    "truly_mutable"
   ]
  },
  {
   "cell_type": "code",
   "execution_count": 38,
   "id": "8ca99e56",
   "metadata": {},
   "outputs": [
    {
     "data": {
      "text/plain": [
       "DataType"
      ]
     },
     "execution_count": 38,
     "metadata": {},
     "output_type": "execute_result"
    }
   ],
   "source": [
    "typeof(Int)"
   ]
  },
  {
   "cell_type": "code",
   "execution_count": 39,
   "id": "bf3ecacf",
   "metadata": {},
   "outputs": [
    {
     "data": {
      "text/plain": [
       "DataType"
      ]
     },
     "execution_count": 39,
     "metadata": {},
     "output_type": "execute_result"
    }
   ],
   "source": [
    "typeof(mStruct2)"
   ]
  },
  {
   "cell_type": "markdown",
   "id": "9d249b85",
   "metadata": {},
   "source": [
    "Understanding parametric types (i.e. Polymorphism or TemplatedTypes)"
   ]
  },
  {
   "cell_type": "code",
   "execution_count": 40,
   "id": "69b64bbb",
   "metadata": {},
   "outputs": [],
   "source": [
    "struct Point{T}\n",
    "    x::T\n",
    "    y::T\n",
    "    name\n",
    "end"
   ]
  },
  {
   "cell_type": "code",
   "execution_count": 41,
   "id": "ecc674ae",
   "metadata": {},
   "outputs": [
    {
     "data": {
      "text/plain": [
       "true"
      ]
     },
     "execution_count": 41,
     "metadata": {},
     "output_type": "execute_result"
    }
   ],
   "source": [
    "Point{AbstractFloat} <: Point"
   ]
  },
  {
   "cell_type": "code",
   "execution_count": 42,
   "id": "046e993d",
   "metadata": {},
   "outputs": [
    {
     "data": {
      "text/plain": [
       "false"
      ]
     },
     "execution_count": 42,
     "metadata": {},
     "output_type": "execute_result"
    }
   ],
   "source": [
    "Point{Float64} <: Point{AbstractFloat}"
   ]
  },
  {
   "cell_type": "code",
   "execution_count": 44,
   "id": "53f2fe96",
   "metadata": {},
   "outputs": [
    {
     "data": {
      "text/plain": [
       "false"
      ]
     },
     "execution_count": 44,
     "metadata": {},
     "output_type": "execute_result"
    }
   ],
   "source": [
    "Point{Float64} <: Point{Number}"
   ]
  },
  {
   "cell_type": "code",
   "execution_count": 45,
   "id": "b8e280a9",
   "metadata": {},
   "outputs": [
    {
     "data": {
      "text/plain": [
       "false"
      ]
     },
     "execution_count": 45,
     "metadata": {},
     "output_type": "execute_result"
    }
   ],
   "source": [
    "Point{Float64} <: Point{Any}"
   ]
  },
  {
   "cell_type": "code",
   "execution_count": 46,
   "id": "01725a58",
   "metadata": {},
   "outputs": [
    {
     "data": {
      "text/plain": [
       "Point{Float64}(2.0, 1.0, \"Implicit\")"
      ]
     },
     "execution_count": 46,
     "metadata": {},
     "output_type": "execute_result"
    }
   ],
   "source": [
    "implicit_p_real  = Point(2.0,1.0,\"Implicit\")"
   ]
  },
  {
   "cell_type": "code",
   "execution_count": 47,
   "id": "0d2dcd90",
   "metadata": {},
   "outputs": [
    {
     "data": {
      "text/plain": [
       "Point{Real}(2.0, 1.0, \"Explicit\")"
      ]
     },
     "execution_count": 47,
     "metadata": {},
     "output_type": "execute_result"
    }
   ],
   "source": [
    "explicit_p_real = Point{Real}(2.0, 1.0, \"Explicit\")"
   ]
  },
  {
   "cell_type": "code",
   "execution_count": 48,
   "id": "97f5b3d0",
   "metadata": {},
   "outputs": [
    {
     "ename": "LoadError",
     "evalue": "MethodError: no method matching Point(::Int64, ::Float64, ::String)\n\n\u001b[0mClosest candidates are:\n\u001b[0m  Point(::T, \u001b[91m::T\u001b[39m, ::Any) where T\n\u001b[0m\u001b[90m   @\u001b[39m \u001b[35mMain\u001b[39m \u001b[90m\u001b[4mIn[40]:2\u001b[24m\u001b[39m\n",
     "output_type": "error",
     "traceback": [
      "MethodError: no method matching Point(::Int64, ::Float64, ::String)\n\n\u001b[0mClosest candidates are:\n\u001b[0m  Point(::T, \u001b[91m::T\u001b[39m, ::Any) where T\n\u001b[0m\u001b[90m   @\u001b[39m \u001b[35mMain\u001b[39m \u001b[90m\u001b[4mIn[40]:2\u001b[24m\u001b[39m\n",
      "",
      "Stacktrace:",
      " [1] top-level scope",
      "   @ In[48]:1"
     ]
    }
   ],
   "source": [
    "problematic_point = Point(1, 2.0, \"Error\")"
   ]
  },
  {
   "cell_type": "code",
   "execution_count": 49,
   "id": "74b166e2",
   "metadata": {},
   "outputs": [
    {
     "ename": "LoadError",
     "evalue": "MethodError: no method matching Point(::Float32, ::Float16, ::String)\n\n\u001b[0mClosest candidates are:\n\u001b[0m  Point(::T, \u001b[91m::T\u001b[39m, ::Any) where T\n\u001b[0m\u001b[90m   @\u001b[39m \u001b[35mMain\u001b[39m \u001b[90m\u001b[4mIn[40]:2\u001b[24m\u001b[39m\n",
     "output_type": "error",
     "traceback": [
      "MethodError: no method matching Point(::Float32, ::Float16, ::String)\n\n\u001b[0mClosest candidates are:\n\u001b[0m  Point(::T, \u001b[91m::T\u001b[39m, ::Any) where T\n\u001b[0m\u001b[90m   @\u001b[39m \u001b[35mMain\u001b[39m \u001b[90m\u001b[4mIn[40]:2\u001b[24m\u001b[39m\n",
      "",
      "Stacktrace:",
      " [1] top-level scope",
      "   @ In[49]:1"
     ]
    }
   ],
   "source": [
    "Point(Float32(2.0), Float16(1.0), \"Different T\")"
   ]
  },
  {
   "cell_type": "code",
   "execution_count": 51,
   "id": "7bc92303",
   "metadata": {},
   "outputs": [
    {
     "data": {
      "text/plain": [
       "Point{Float64}(2.0, 1.0, \"Different T\")"
      ]
     },
     "execution_count": 51,
     "metadata": {},
     "output_type": "execute_result"
    }
   ],
   "source": [
    "Point(Float64(2.0), AbstractFloat(1.0), \"Different T\")"
   ]
  },
  {
   "cell_type": "code",
   "execution_count": null,
   "id": "f79c9e11",
   "metadata": {},
   "outputs": [],
   "source": []
  }
 ],
 "metadata": {
  "kernelspec": {
   "display_name": "Julia 1.9.2",
   "language": "julia",
   "name": "julia-1.9"
  },
  "language_info": {
   "file_extension": ".jl",
   "mimetype": "application/julia",
   "name": "julia",
   "version": "1.9.2"
  }
 },
 "nbformat": 4,
 "nbformat_minor": 5
}
