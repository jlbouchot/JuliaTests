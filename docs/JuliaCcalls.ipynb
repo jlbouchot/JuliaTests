{
 "cells": [
  {
   "cell_type": "markdown",
   "id": "0526536e-0860-442a-bb7b-e841ee4d1b71",
   "metadata": {},
   "source": [
    "Basic notebook to test the C bindings of Julia language prior to launching the parsing of the language into IL, which is expected by tapenade.\n",
    "\n",
    "Note that it is not trivial to get to pass a function name (which should be a symbol) as a String. More on this later. "
   ]
  },
  {
   "cell_type": "code",
   "execution_count": 1,
   "id": "e6cf7808-ad32-42e4-9c30-237e19a2f258",
   "metadata": {},
   "outputs": [],
   "source": [
    "#= \n",
    "c_libname = \"./libcnt\"\n",
    "c_incr = \"calling_c\"\n",
    "c_refreturn = \"returnbyref\"\n",
    "c_return_val = \"returncnt\"\n",
    "c_big_update = \"big_update\"\n",
    "c_print = \"print_in_c\"\n",
    "\n",
    "x=ccall((Meta.parse(c_big_update),c_libname),Int32,(Int32,), 5)\n",
    "x= ccall((c_return_val,c_libname),UInt32,())\n",
    "x=ccall((:big_update, \"./libcnt\"),Int32,(Int32,), 5)\n",
    "x=ccall((:calling_c, \"./libcnt\"),Int32,())\n",
    "ccall((:print_in_c, \"./libcnt\"),Int32,())\n",
    "=#"
   ]
  },
  {
   "cell_type": "markdown",
   "id": "dbfbaea6-15b3-4ff0-8122-a7fb7891a957",
   "metadata": {},
   "source": [
    "One way to get around it is to pass a function handler..."
   ]
  },
  {
   "cell_type": "code",
   "execution_count": 2,
   "id": "1e619d04-615d-4ec4-ba85-85e397963688",
   "metadata": {},
   "outputs": [],
   "source": [
    "#= For first timers\n",
    "using Pkg\n",
    "Pkg.add(\"Libdl\")\n",
    "=#"
   ]
  },
  {
   "cell_type": "code",
   "execution_count": 3,
   "id": "b8b49755-09ab-428a-84a9-fbee88f7b71e",
   "metadata": {},
   "outputs": [],
   "source": [
    "using Libdl"
   ]
  },
  {
   "cell_type": "code",
   "execution_count": 4,
   "id": "5f94b6c1-9dca-42c8-84a0-9b868c8b17de",
   "metadata": {},
   "outputs": [
    {
     "data": {
      "text/plain": [
       "Ptr{Nothing} @0x00000000018a21d0"
      ]
     },
     "execution_count": 4,
     "metadata": {},
     "output_type": "execute_result"
    }
   ],
   "source": [
    "c_libname = \"./libcnt\"\n",
    "lib = Libdl.dlopen(\"./libcnt.so\") # Open the library explicitly."
   ]
  },
  {
   "cell_type": "code",
   "execution_count": 5,
   "id": "d6e5d0be-8ce3-43e4-9676-17459e6519d5",
   "metadata": {},
   "outputs": [
    {
     "data": {
      "text/plain": [
       "Ptr{Nothing} @0x00007efe94e0429c"
      ]
     },
     "execution_count": 5,
     "metadata": {},
     "output_type": "execute_result"
    }
   ],
   "source": [
    "# List all my functions\n",
    "c_big_update = Libdl.dlsym(lib, :big_update)   # Get a symbol for the function to call.\n",
    "c_incr = Libdl.dlsym(lib, :calling_c)   # Get a symbol for the function to call.\n",
    "c_refreturn = Libdl.dlsym(lib, :returnbyref)   # Get a symbol for the function to call.\n",
    "c_print = Libdl.dlsym(lib, :print_in_c)\n",
    "c_valreturn = Libdl.dlsym(lib, :returncnt)"
   ]
  },
  {
   "cell_type": "code",
   "execution_count": 6,
   "id": "89c15978-8507-4bd1-b656-b8b6cfe24e77",
   "metadata": {},
   "outputs": [
    {
     "name": "stdout",
     "output_type": "stream",
     "text": [
      "\t\t***** cnt is 0\n"
     ]
    },
    {
     "data": {
      "text/plain": [
       "0"
      ]
     },
     "execution_count": 6,
     "metadata": {},
     "output_type": "execute_result"
    }
   ],
   "source": [
    "x = ccall(c_print, Int32, ())"
   ]
  },
  {
   "cell_type": "code",
   "execution_count": 7,
   "id": "de7815ee-5beb-4f65-afe7-23fde9eee9eb",
   "metadata": {},
   "outputs": [
    {
     "data": {
      "text/plain": [
       "1"
      ]
     },
     "execution_count": 7,
     "metadata": {},
     "output_type": "execute_result"
    }
   ],
   "source": [
    "ccall(c_incr, Int32, ())"
   ]
  },
  {
   "cell_type": "code",
   "execution_count": 8,
   "id": "875688d8-625a-476b-a923-b1d588e322be",
   "metadata": {},
   "outputs": [
    {
     "name": "stdout",
     "output_type": "stream",
     "text": [
      "\t\t***** cnt is 1\n"
     ]
    },
    {
     "data": {
      "text/plain": [
       "0"
      ]
     },
     "execution_count": 8,
     "metadata": {},
     "output_type": "execute_result"
    }
   ],
   "source": [
    "x = ccall(c_print, Int32, ())"
   ]
  },
  {
   "cell_type": "code",
   "execution_count": 9,
   "id": "53a611c8-bb27-4896-866e-a38d10b931a9",
   "metadata": {},
   "outputs": [
    {
     "data": {
      "text/plain": [
       "0"
      ]
     },
     "execution_count": 9,
     "metadata": {},
     "output_type": "execute_result"
    }
   ],
   "source": [
    "isOk = ccall(c_big_update,Int32,(Int32,), 5)"
   ]
  },
  {
   "cell_type": "code",
   "execution_count": 10,
   "id": "7b61ee73-6c83-47b3-94cf-dd00fe975bf3",
   "metadata": {},
   "outputs": [
    {
     "name": "stdout",
     "output_type": "stream",
     "text": [
      "\t\t***** cnt is 6\n"
     ]
    },
    {
     "data": {
      "text/plain": [
       "0"
      ]
     },
     "execution_count": 10,
     "metadata": {},
     "output_type": "execute_result"
    }
   ],
   "source": [
    "x = ccall(c_print, Int32, ())"
   ]
  },
  {
   "cell_type": "code",
   "execution_count": 11,
   "id": "593cae8e-0f09-46b9-ba50-f7a08046315f",
   "metadata": {},
   "outputs": [
    {
     "data": {
      "text/plain": [
       "6"
      ]
     },
     "execution_count": 11,
     "metadata": {},
     "output_type": "execute_result"
    }
   ],
   "source": [
    "cur_cnt = ccall(c_valreturn, Int32, ())"
   ]
  },
  {
   "cell_type": "code",
   "execution_count": 12,
   "id": "e8b451f7-4be0-48e7-bdec-74f3df4de53c",
   "metadata": {},
   "outputs": [
    {
     "data": {
      "text/plain": [
       "1-element Vector{Int32}:\n",
       " 1"
      ]
     },
     "execution_count": 12,
     "metadata": {},
     "output_type": "execute_result"
    }
   ],
   "source": [
    "v = Array{Int32,1}([1])"
   ]
  },
  {
   "cell_type": "code",
   "execution_count": 13,
   "id": "cdeeda16-4ca5-4000-89e1-df729bf2ae7c",
   "metadata": {},
   "outputs": [
    {
     "data": {
      "text/plain": [
       "0"
      ]
     },
     "execution_count": 13,
     "metadata": {},
     "output_type": "execute_result"
    }
   ],
   "source": [
    "return_val = ccall(c_refreturn, Int32, (Ptr{Cint},), v)"
   ]
  },
  {
   "cell_type": "code",
   "execution_count": 14,
   "id": "4db0ce73-1e33-4f5d-b772-c7556e57a905",
   "metadata": {},
   "outputs": [
    {
     "data": {
      "text/plain": [
       "1-element Vector{Int32}:\n",
       " 6"
      ]
     },
     "execution_count": 14,
     "metadata": {},
     "output_type": "execute_result"
    }
   ],
   "source": [
    "v"
   ]
  },
  {
   "cell_type": "code",
   "execution_count": 15,
   "id": "8e9c9349-0c88-4a6e-b825-593a449340e3",
   "metadata": {},
   "outputs": [
    {
     "data": {
      "text/plain": [
       "6"
      ]
     },
     "execution_count": 15,
     "metadata": {},
     "output_type": "execute_result"
    }
   ],
   "source": [
    "cur_cnt = ccall(c_valreturn, Int32, ())"
   ]
  },
  {
   "cell_type": "code",
   "execution_count": null,
   "id": "0bd93b8b-5139-4878-ad89-50847ccc8407",
   "metadata": {},
   "outputs": [],
   "source": []
  },
  {
   "cell_type": "code",
   "execution_count": null,
   "id": "5b1d98ff-6fbb-4b58-bd2d-8c4a40417a40",
   "metadata": {},
   "outputs": [],
   "source": []
  },
  {
   "cell_type": "markdown",
   "id": "fc594468-b72a-4c97-b17c-c3286d6ec3de",
   "metadata": {},
   "source": [
    "Let's try playing with more complex objects passed as parameters / return values "
   ]
  },
  {
   "cell_type": "code",
   "execution_count": 16,
   "id": "7674a5aa-8068-4ef7-899f-b2ff81b5262f",
   "metadata": {},
   "outputs": [],
   "source": [
    "struct BinaryTree\n",
    "    v::Cfloat\n",
    "    lchild::Ptr{BinaryTree}\n",
    "    rchild::Ptr{BinaryTree}\n",
    "end"
   ]
  },
  {
   "cell_type": "code",
   "execution_count": 23,
   "id": "5743080f-ebb9-43fb-8ceb-43a8710777e9",
   "metadata": {},
   "outputs": [
    {
     "data": {
      "text/plain": [
       "Ptr{Nothing} @0x00007efe94e041c4"
      ]
     },
     "execution_count": 23,
     "metadata": {},
     "output_type": "execute_result"
    }
   ],
   "source": [
    "# List all my functions\n",
    "c_new_tree = Libdl.dlsym(lib, :new_tree)\n",
    "c_add_left = Libdl.dlsym(lib, :add_left)\n",
    "c_add_right = Libdl.dlsym(lib, :add_right)\n",
    "c_print_to_the_left = Libdl.dlsym(lib, :print_to_the_left)\n",
    "c_print_to_the_right = Libdl.dlsym(lib, :print_to_the_right)"
   ]
  },
  {
   "cell_type": "code",
   "execution_count": 24,
   "id": "bb291bd8-a3f6-41e1-9e35-83de55458e11",
   "metadata": {},
   "outputs": [
    {
     "data": {
      "text/plain": [
       "Ptr{BinaryTree} @0x0000000001ce16a0"
      ]
     },
     "execution_count": 24,
     "metadata": {},
     "output_type": "execute_result"
    }
   ],
   "source": [
    "# Start with handling a binary tree in Julia, from a ressource created in C: \n",
    "from_c_bintree = ccall(c_new_tree, Ptr{BinaryTree}, (Cfloat,), 3.0)"
   ]
  },
  {
   "cell_type": "code",
   "execution_count": 25,
   "id": "333711a1-9bb9-45fb-a54d-3542972c6818",
   "metadata": {},
   "outputs": [
    {
     "name": "stdout",
     "output_type": "stream",
     "text": [
      "Value number 0 is 3.000000\n"
     ]
    }
   ],
   "source": [
    "ccall(c_print_to_the_left, Cvoid, (Ref{BinaryTree},), from_c_bintree)"
   ]
  },
  {
   "cell_type": "code",
   "execution_count": 26,
   "id": "9ef04c74-3e4f-4287-84dc-9ed3e70e6f11",
   "metadata": {},
   "outputs": [
    {
     "name": "stdout",
     "output_type": "stream",
     "text": [
      "Value number 0 is 3.000000\n"
     ]
    }
   ],
   "source": [
    "ccall(c_print_to_the_right, Cvoid, (Ref{BinaryTree},), from_c_bintree)"
   ]
  },
  {
   "cell_type": "code",
   "execution_count": 27,
   "id": "f939a4c6-99a7-47b8-89fa-1d1968ecd3a9",
   "metadata": {},
   "outputs": [
    {
     "data": {
      "text/plain": [
       "BinaryTree(42.0f0, Ptr{BinaryTree} @0x0000000000000000, Ptr{BinaryTree} @0x0000000000000000)"
      ]
     },
     "execution_count": 27,
     "metadata": {},
     "output_type": "execute_result"
    }
   ],
   "source": [
    "# Create a right child straigth from Julia, and add it to the C based tree\n",
    "julia_right_child = BinaryTree(42.0, Ptr{BinaryTree}(C_NULL), Ptr{BinaryTree}(C_NULL))"
   ]
  },
  {
   "cell_type": "code",
   "execution_count": 28,
   "id": "c90d6afb-7ab5-4fdf-88b0-a00bf553fd12",
   "metadata": {},
   "outputs": [
    {
     "data": {
      "text/plain": [
       "Ptr{BinaryTree} @0x00000000016c4150"
      ]
     },
     "execution_count": 28,
     "metadata": {},
     "output_type": "execute_result"
    }
   ],
   "source": [
    "# Create a right child straigth from Julia, and add it to the C based tree\n",
    "c_left_child = ccall(c_new_tree, Ptr{BinaryTree}, (Cfloat,), 13.43)"
   ]
  },
  {
   "cell_type": "code",
   "execution_count": 29,
   "id": "de4ddcd4-5e51-4f50-8358-3c2a509e263d",
   "metadata": {},
   "outputs": [
    {
     "data": {
      "text/plain": [
       "0"
      ]
     },
     "execution_count": 29,
     "metadata": {},
     "output_type": "execute_result"
    }
   ],
   "source": [
    "return_val = ccall(c_add_left, Int32, (Ref{BinaryTree},Ref{BinaryTree},), from_c_bintree, c_left_child)"
   ]
  },
  {
   "cell_type": "code",
   "execution_count": 30,
   "id": "bec7cf38-dd09-4dbd-a4a2-116da7a11863",
   "metadata": {},
   "outputs": [
    {
     "name": "stdout",
     "output_type": "stream",
     "text": [
      "Calling to the left\n",
      "Calling to the right\n",
      "Value number 0 is 3.000000\n",
      "Value number 1 is 13.430000\n",
      "Value number 0 is 3.000000\n"
     ]
    }
   ],
   "source": [
    "println(\"Calling to the left\")\n",
    "ccall(c_print_to_the_left, Cvoid, (Ref{BinaryTree},), from_c_bintree)\n",
    "println(\"Calling to the right\")\n",
    "ccall(c_print_to_the_right, Cvoid, (Ref{BinaryTree},), from_c_bintree)"
   ]
  },
  {
   "cell_type": "code",
   "execution_count": 31,
   "id": "ce6d72cd-42aa-4715-8d76-339360a3ea05",
   "metadata": {},
   "outputs": [
    {
     "data": {
      "text/plain": [
       "0"
      ]
     },
     "execution_count": 31,
     "metadata": {},
     "output_type": "execute_result"
    }
   ],
   "source": [
    "return_val = ccall(c_add_right, Int32, (Ref{BinaryTree},Ref{BinaryTree},), from_c_bintree, julia_right_child)"
   ]
  },
  {
   "cell_type": "code",
   "execution_count": 32,
   "id": "7c02859d-fbaa-49c3-a708-19a92ab4b2d8",
   "metadata": {},
   "outputs": [
    {
     "name": "stdout",
     "output_type": "stream",
     "text": [
      "Calling to the left\n",
      "Calling to the right\n",
      "Value number 0 is 3.000000\n",
      "Value number 1 is 13.430000\n",
      "Value number 0 is 3.000000\n",
      "Value number 1 is 42.000000\n"
     ]
    }
   ],
   "source": [
    "println(\"Calling to the left\")\n",
    "ccall(c_print_to_the_left, Cvoid, (Ref{BinaryTree},), from_c_bintree)\n",
    "println(\"Calling to the right\")\n",
    "ccall(c_print_to_the_right, Cvoid, (Ref{BinaryTree},), from_c_bintree)"
   ]
  },
  {
   "cell_type": "code",
   "execution_count": null,
   "id": "f2a0a390-75af-4a3c-99c3-bb2b9c1fe1c6",
   "metadata": {},
   "outputs": [],
   "source": []
  },
  {
   "cell_type": "code",
   "execution_count": 33,
   "id": "51a615e6-ee54-44bc-a1e6-18a1d497dddd",
   "metadata": {},
   "outputs": [
    {
     "data": {
      "text/plain": [
       "true"
      ]
     },
     "execution_count": 33,
     "metadata": {},
     "output_type": "execute_result"
    }
   ],
   "source": [
    "Libdl.dlclose(lib) # Close the library explicitly."
   ]
  },
  {
   "cell_type": "code",
   "execution_count": null,
   "id": "a1de0bbe-e0a6-47d1-a9f0-77e311bbcf12",
   "metadata": {},
   "outputs": [],
   "source": []
  }
 ],
 "metadata": {
  "kernelspec": {
   "display_name": "Julia 1.9.2",
   "language": "julia",
   "name": "julia-1.9"
  },
  "language_info": {
   "file_extension": ".jl",
   "mimetype": "application/julia",
   "name": "julia",
   "version": "1.9.2"
  }
 },
 "nbformat": 4,
 "nbformat_minor": 5
}
